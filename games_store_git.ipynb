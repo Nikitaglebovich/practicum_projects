{
  "cells": [
    {
      "cell_type": "markdown",
      "metadata": {
        "id": "SG6xC45l1eUf"
      },
      "source": [
        "# **Сборный проект по статистическому анализу данных**"
      ]
    },
    {
      "cell_type": "markdown",
      "metadata": {
        "id": "7AidgNtq1eUf"
      },
      "source": [
        "**Цели проекта:**\n",
        "* Выявление определяющих успешность игры закономерностей.\n",
        "* Отработка принципов работы с данными."
      ]
    },
    {
      "cell_type": "markdown",
      "metadata": {
        "id": "bChwu5F-1eUg"
      },
      "source": [
        "**Описание проекта**"
      ]
    },
    {
      "cell_type": "markdown",
      "metadata": {
        "id": "bmtqvfRT1eUg"
      },
      "source": [
        "Вы работаете в интернет-магазине «Стримчик», специализирующемся на продаже компьютерных игр по всему миру. Доступны исторические данные о продажах игр, оценках пользователей и экспертов, жанрах и платформах. Необходимо выявить ключевые факторы успешности игр, чтобы выбрать потенциально популярные продукты и спланировать рекламные кампании на 2017 год, основываясь на данных до 2016 года."
      ]
    },
    {
      "cell_type": "markdown",
      "metadata": {
        "id": "f-D7o9e-1eUg"
      },
      "source": [
        "**Задача проекта:** разработать модель для определения перспектив развития игрового продукта."
      ]
    },
    {
      "cell_type": "markdown",
      "metadata": {
        "id": "aVoo2P1J1eUg"
      },
      "source": [
        "**Описание данных**\n",
        "\n",
        "- **Name** — название игры\n",
        "- **Platform** — платформа\n",
        "- **Year_of_Release** — год выпуска\n",
        "- **Genre** — жанр игры\n",
        "- **NA_sales** — продажи в Северной Америке (миллионы проданных копий)\n",
        "- **EU_sales** — продажи в Европе (миллионы проданных копий)\n",
        "- **JP_sales** — продажи в Японии (миллионы проданных копий)\n",
        "- **Other_sales** — продажи в других странах (миллионы проданных копий)\n",
        "- **Critic_Score** — оценка критиков (максимум 100)\n",
        "- **User_Score** — оценка пользователей (максимум 10)\n",
        "- **Rating** — рейтинг от организации ESRB (англ. Entertainment Software Rating Board). Эта ассоциация определяет рейтинг компьютерных игр и присваивает им подходящую возрастную категорию."
      ]
    },
    {
      "cell_type": "markdown",
      "metadata": {
        "id": "7ruCOlhd1eUh"
      },
      "source": [
        "# Подготовка данных"
      ]
    },
    {
      "cell_type": "code",
      "execution_count": null,
      "metadata": {
        "id": "Sp10B5Wz1eUh"
      },
      "outputs": [],
      "source": [
        "import pandas as pd\n",
        "import numpy as np\n",
        "from matplotlib import pyplot as plt\n",
        "from scipy.stats import ttest_ind\n",
        "from scipy import stats\n",
        "import seaborn as sns"
      ]
    },
    {
      "cell_type": "code",
      "execution_count": null,
      "metadata": {
        "id": "j2LQrxfA1eUi"
      },
      "outputs": [],
      "source": [
        "data=pd.read_csv('/datasets/games.csv')"
      ]
    },
    {
      "cell_type": "code",
      "execution_count": null,
      "metadata": {
        "id": "m4kuQB121eUi",
        "outputId": "5fa7cb83-f843-4f44-e458-7c2c6e052e99"
      },
      "outputs": [
        {
          "data": {
            "text/html": [
              "<div>\n",
              "<style scoped>\n",
              "    .dataframe tbody tr th:only-of-type {\n",
              "        vertical-align: middle;\n",
              "    }\n",
              "\n",
              "    .dataframe tbody tr th {\n",
              "        vertical-align: top;\n",
              "    }\n",
              "\n",
              "    .dataframe thead th {\n",
              "        text-align: right;\n",
              "    }\n",
              "</style>\n",
              "<table border=\"1\" class=\"dataframe\">\n",
              "  <thead>\n",
              "    <tr style=\"text-align: right;\">\n",
              "      <th></th>\n",
              "      <th>Name</th>\n",
              "      <th>Platform</th>\n",
              "      <th>Year_of_Release</th>\n",
              "      <th>Genre</th>\n",
              "      <th>NA_sales</th>\n",
              "      <th>EU_sales</th>\n",
              "      <th>JP_sales</th>\n",
              "      <th>Other_sales</th>\n",
              "      <th>Critic_Score</th>\n",
              "      <th>User_Score</th>\n",
              "      <th>Rating</th>\n",
              "    </tr>\n",
              "  </thead>\n",
              "  <tbody>\n",
              "    <tr>\n",
              "      <th>0</th>\n",
              "      <td>Wii Sports</td>\n",
              "      <td>Wii</td>\n",
              "      <td>2006.0</td>\n",
              "      <td>Sports</td>\n",
              "      <td>41.36</td>\n",
              "      <td>28.96</td>\n",
              "      <td>3.77</td>\n",
              "      <td>8.45</td>\n",
              "      <td>76.0</td>\n",
              "      <td>8</td>\n",
              "      <td>E</td>\n",
              "    </tr>\n",
              "    <tr>\n",
              "      <th>1</th>\n",
              "      <td>Super Mario Bros.</td>\n",
              "      <td>NES</td>\n",
              "      <td>1985.0</td>\n",
              "      <td>Platform</td>\n",
              "      <td>29.08</td>\n",
              "      <td>3.58</td>\n",
              "      <td>6.81</td>\n",
              "      <td>0.77</td>\n",
              "      <td>NaN</td>\n",
              "      <td>NaN</td>\n",
              "      <td>NaN</td>\n",
              "    </tr>\n",
              "    <tr>\n",
              "      <th>2</th>\n",
              "      <td>Mario Kart Wii</td>\n",
              "      <td>Wii</td>\n",
              "      <td>2008.0</td>\n",
              "      <td>Racing</td>\n",
              "      <td>15.68</td>\n",
              "      <td>12.76</td>\n",
              "      <td>3.79</td>\n",
              "      <td>3.29</td>\n",
              "      <td>82.0</td>\n",
              "      <td>8.3</td>\n",
              "      <td>E</td>\n",
              "    </tr>\n",
              "    <tr>\n",
              "      <th>3</th>\n",
              "      <td>Wii Sports Resort</td>\n",
              "      <td>Wii</td>\n",
              "      <td>2009.0</td>\n",
              "      <td>Sports</td>\n",
              "      <td>15.61</td>\n",
              "      <td>10.93</td>\n",
              "      <td>3.28</td>\n",
              "      <td>2.95</td>\n",
              "      <td>80.0</td>\n",
              "      <td>8</td>\n",
              "      <td>E</td>\n",
              "    </tr>\n",
              "    <tr>\n",
              "      <th>4</th>\n",
              "      <td>Pokemon Red/Pokemon Blue</td>\n",
              "      <td>GB</td>\n",
              "      <td>1996.0</td>\n",
              "      <td>Role-Playing</td>\n",
              "      <td>11.27</td>\n",
              "      <td>8.89</td>\n",
              "      <td>10.22</td>\n",
              "      <td>1.00</td>\n",
              "      <td>NaN</td>\n",
              "      <td>NaN</td>\n",
              "      <td>NaN</td>\n",
              "    </tr>\n",
              "    <tr>\n",
              "      <th>5</th>\n",
              "      <td>Tetris</td>\n",
              "      <td>GB</td>\n",
              "      <td>1989.0</td>\n",
              "      <td>Puzzle</td>\n",
              "      <td>23.20</td>\n",
              "      <td>2.26</td>\n",
              "      <td>4.22</td>\n",
              "      <td>0.58</td>\n",
              "      <td>NaN</td>\n",
              "      <td>NaN</td>\n",
              "      <td>NaN</td>\n",
              "    </tr>\n",
              "    <tr>\n",
              "      <th>6</th>\n",
              "      <td>New Super Mario Bros.</td>\n",
              "      <td>DS</td>\n",
              "      <td>2006.0</td>\n",
              "      <td>Platform</td>\n",
              "      <td>11.28</td>\n",
              "      <td>9.14</td>\n",
              "      <td>6.50</td>\n",
              "      <td>2.88</td>\n",
              "      <td>89.0</td>\n",
              "      <td>8.5</td>\n",
              "      <td>E</td>\n",
              "    </tr>\n",
              "    <tr>\n",
              "      <th>7</th>\n",
              "      <td>Wii Play</td>\n",
              "      <td>Wii</td>\n",
              "      <td>2006.0</td>\n",
              "      <td>Misc</td>\n",
              "      <td>13.96</td>\n",
              "      <td>9.18</td>\n",
              "      <td>2.93</td>\n",
              "      <td>2.84</td>\n",
              "      <td>58.0</td>\n",
              "      <td>6.6</td>\n",
              "      <td>E</td>\n",
              "    </tr>\n",
              "    <tr>\n",
              "      <th>8</th>\n",
              "      <td>New Super Mario Bros. Wii</td>\n",
              "      <td>Wii</td>\n",
              "      <td>2009.0</td>\n",
              "      <td>Platform</td>\n",
              "      <td>14.44</td>\n",
              "      <td>6.94</td>\n",
              "      <td>4.70</td>\n",
              "      <td>2.24</td>\n",
              "      <td>87.0</td>\n",
              "      <td>8.4</td>\n",
              "      <td>E</td>\n",
              "    </tr>\n",
              "    <tr>\n",
              "      <th>9</th>\n",
              "      <td>Duck Hunt</td>\n",
              "      <td>NES</td>\n",
              "      <td>1984.0</td>\n",
              "      <td>Shooter</td>\n",
              "      <td>26.93</td>\n",
              "      <td>0.63</td>\n",
              "      <td>0.28</td>\n",
              "      <td>0.47</td>\n",
              "      <td>NaN</td>\n",
              "      <td>NaN</td>\n",
              "      <td>NaN</td>\n",
              "    </tr>\n",
              "  </tbody>\n",
              "</table>\n",
              "</div>"
            ],
            "text/plain": [
              "                        Name Platform  Year_of_Release         Genre  \\\n",
              "0                 Wii Sports      Wii           2006.0        Sports   \n",
              "1          Super Mario Bros.      NES           1985.0      Platform   \n",
              "2             Mario Kart Wii      Wii           2008.0        Racing   \n",
              "3          Wii Sports Resort      Wii           2009.0        Sports   \n",
              "4   Pokemon Red/Pokemon Blue       GB           1996.0  Role-Playing   \n",
              "5                     Tetris       GB           1989.0        Puzzle   \n",
              "6      New Super Mario Bros.       DS           2006.0      Platform   \n",
              "7                   Wii Play      Wii           2006.0          Misc   \n",
              "8  New Super Mario Bros. Wii      Wii           2009.0      Platform   \n",
              "9                  Duck Hunt      NES           1984.0       Shooter   \n",
              "\n",
              "   NA_sales  EU_sales  JP_sales  Other_sales  Critic_Score User_Score Rating  \n",
              "0     41.36     28.96      3.77         8.45          76.0          8      E  \n",
              "1     29.08      3.58      6.81         0.77           NaN        NaN    NaN  \n",
              "2     15.68     12.76      3.79         3.29          82.0        8.3      E  \n",
              "3     15.61     10.93      3.28         2.95          80.0          8      E  \n",
              "4     11.27      8.89     10.22         1.00           NaN        NaN    NaN  \n",
              "5     23.20      2.26      4.22         0.58           NaN        NaN    NaN  \n",
              "6     11.28      9.14      6.50         2.88          89.0        8.5      E  \n",
              "7     13.96      9.18      2.93         2.84          58.0        6.6      E  \n",
              "8     14.44      6.94      4.70         2.24          87.0        8.4      E  \n",
              "9     26.93      0.63      0.28         0.47           NaN        NaN    NaN  "
            ]
          },
          "execution_count": 3,
          "metadata": {},
          "output_type": "execute_result"
        }
      ],
      "source": [
        "data.head(10)"
      ]
    },
    {
      "cell_type": "code",
      "execution_count": null,
      "metadata": {
        "id": "T6gWoCEP1eUj",
        "outputId": "7d4016cc-0dc0-4904-d97e-3aeb6b5656b2"
      },
      "outputs": [
        {
          "name": "stdout",
          "output_type": "stream",
          "text": [
            "<class 'pandas.core.frame.DataFrame'>\n",
            "RangeIndex: 16715 entries, 0 to 16714\n",
            "Data columns (total 11 columns):\n",
            " #   Column           Non-Null Count  Dtype  \n",
            "---  ------           --------------  -----  \n",
            " 0   Name             16713 non-null  object \n",
            " 1   Platform         16715 non-null  object \n",
            " 2   Year_of_Release  16446 non-null  float64\n",
            " 3   Genre            16713 non-null  object \n",
            " 4   NA_sales         16715 non-null  float64\n",
            " 5   EU_sales         16715 non-null  float64\n",
            " 6   JP_sales         16715 non-null  float64\n",
            " 7   Other_sales      16715 non-null  float64\n",
            " 8   Critic_Score     8137 non-null   float64\n",
            " 9   User_Score       10014 non-null  object \n",
            " 10  Rating           9949 non-null   object \n",
            "dtypes: float64(6), object(5)\n",
            "memory usage: 1.4+ MB\n"
          ]
        }
      ],
      "source": [
        "data.info()"
      ]
    },
    {
      "cell_type": "markdown",
      "metadata": {
        "id": "NNd6_OPB1eUj"
      },
      "source": [
        "**Что необходимо:**\n",
        "* Привести названия столбцов к нижнему регистру\n",
        "* Преобразоование столбцов в нужный формат\n",
        "* Обработать пропуски в столбцах где это необходимо\n",
        "* Необходим дополнительный столбец с сумарными продажами по всем регионам"
      ]
    },
    {
      "cell_type": "markdown",
      "metadata": {
        "id": "5IwA5ftV1eUk"
      },
      "source": [
        "Приводим названия столбцов к нижнему регистру"
      ]
    },
    {
      "cell_type": "code",
      "execution_count": null,
      "metadata": {
        "id": "xl3QWanA1eUk"
      },
      "outputs": [],
      "source": [
        "data.columns=data.columns.str.lower()"
      ]
    },
    {
      "cell_type": "markdown",
      "metadata": {
        "id": "1H0yVnt11eUk"
      },
      "source": [
        "Изучаем количество пропусков в столбцах"
      ]
    },
    {
      "cell_type": "code",
      "execution_count": null,
      "metadata": {
        "scrolled": true,
        "id": "672gNfjR1eUl",
        "outputId": "7a985be1-cad1-40a4-e975-d5e1a761a6e3"
      },
      "outputs": [
        {
          "data": {
            "text/plain": [
              "name                  2\n",
              "platform              0\n",
              "year_of_release     269\n",
              "genre                 2\n",
              "na_sales              0\n",
              "eu_sales              0\n",
              "jp_sales              0\n",
              "other_sales           0\n",
              "critic_score       8578\n",
              "user_score         6701\n",
              "rating             6766\n",
              "dtype: int64"
            ]
          },
          "execution_count": 6,
          "metadata": {},
          "output_type": "execute_result"
        }
      ],
      "source": [
        "data.isna().sum()"
      ]
    },
    {
      "cell_type": "markdown",
      "metadata": {
        "id": "BYugk54c1eUl"
      },
      "source": [
        "Пропуски в столбцах name и genre могли возникнуть из-за ошибок при сборе данных или человеческого фактора. Пропуски в столбцах year_of_release, critic_score, user_score и rating могли появиться из-за отсутствия соответствующих данных."
      ]
    },
    {
      "cell_type": "markdown",
      "metadata": {
        "id": "rRvmfAnC1eUl"
      },
      "source": [
        "Заполняем пропуски в столбце name, genre на unknow"
      ]
    },
    {
      "cell_type": "code",
      "execution_count": null,
      "metadata": {
        "id": "-PmyWbvd1eUl"
      },
      "outputs": [],
      "source": [
        "data['name']=data['name'].fillna('unknown')\n",
        "data['genre']=data['genre'].fillna('unknown')"
      ]
    },
    {
      "cell_type": "markdown",
      "metadata": {
        "id": "hZbPzD0-1eUl"
      },
      "source": [
        "Столбец с информацией об оценках пользователей содержит не только числовые значения, но и отметки \"tbd\" (to be determined), означающие, что данные пока не определены. По сути, это отсутствующие данные, которые можно заменить на значение NaN для последующей смены формата столбца."
      ]
    },
    {
      "cell_type": "code",
      "execution_count": null,
      "metadata": {
        "id": "yraFs-Ts1eUl"
      },
      "outputs": [],
      "source": [
        "data['user_score']=data['user_score'].replace('tbd',np.NAN)\n",
        "data['user_score']=data['user_score'].astype('float64')"
      ]
    },
    {
      "cell_type": "markdown",
      "metadata": {
        "id": "ucK8NQnu1eUl"
      },
      "source": [
        "Заменяем пропуски в столбце rating на undefined"
      ]
    },
    {
      "cell_type": "code",
      "execution_count": null,
      "metadata": {
        "id": "AseE_L3M1eUl"
      },
      "outputs": [],
      "source": [
        "data['rating']=data['rating'].fillna('undefined')"
      ]
    },
    {
      "cell_type": "markdown",
      "metadata": {
        "id": "pmaMtNYR1eUl"
      },
      "source": [
        "Приводим столбец year_of_release к цельночислительному формату"
      ]
    },
    {
      "cell_type": "code",
      "execution_count": null,
      "metadata": {
        "id": "wuHS3ZzC1eUm"
      },
      "outputs": [],
      "source": [
        "data['year_of_release'] = data['year_of_release'].fillna(0).astype('int64')"
      ]
    },
    {
      "cell_type": "markdown",
      "metadata": {
        "id": "hjF_kjTq1eUm"
      },
      "source": [
        "Добавляем к таблице столбец с информацией о сумарных продажах."
      ]
    },
    {
      "cell_type": "code",
      "execution_count": null,
      "metadata": {
        "id": "B9ZTnk4I1eUm"
      },
      "outputs": [],
      "source": [
        "data['total_sales']=data['na_sales']+data['eu_sales']+data['jp_sales']+data['other_sales']"
      ]
    },
    {
      "cell_type": "markdown",
      "metadata": {
        "id": "waIBLTUq1eUm"
      },
      "source": [
        "Заполнение пропусков в столбцах Year_of_Release, Critic_Score, User_Score и Rating недопустимо, поскольку это может привести к искажению и неверной интерпретации данных."
      ]
    },
    {
      "cell_type": "markdown",
      "metadata": {
        "id": "aWU3C7-W1eUm"
      },
      "source": [
        "Проверяем данные на явные и неявные дубликаты."
      ]
    },
    {
      "cell_type": "markdown",
      "metadata": {
        "id": "D9ZDLJj51eUn"
      },
      "source": [
        "Прифодим всю информацию в столбцах name, genre, platform к нижнему регистру."
      ]
    },
    {
      "cell_type": "code",
      "execution_count": null,
      "metadata": {
        "id": "FdRXq1aO1eUn"
      },
      "outputs": [],
      "source": [
        "data['name']=data['name'].str.lower()\n",
        "data['genre']=data['genre'].str.lower()\n",
        "data['platform']=data['platform'].str.lower()"
      ]
    },
    {
      "cell_type": "markdown",
      "metadata": {
        "id": "5pUwJuGI1eUn"
      },
      "source": [
        "И проверяем на явные дубликаты"
      ]
    },
    {
      "cell_type": "code",
      "execution_count": null,
      "metadata": {
        "id": "CvingLoA1eUn",
        "outputId": "e2ed3306-266c-4ced-be6d-1c4a4b9bbe33"
      },
      "outputs": [
        {
          "data": {
            "text/plain": [
              "0"
            ]
          },
          "execution_count": 13,
          "metadata": {},
          "output_type": "execute_result"
        }
      ],
      "source": [
        "data.duplicated().sum()"
      ]
    },
    {
      "cell_type": "markdown",
      "metadata": {
        "id": "_wZqeBoN1eUn"
      },
      "source": [
        "Явных дубликатов совсем не обнаружено."
      ]
    },
    {
      "cell_type": "code",
      "execution_count": null,
      "metadata": {
        "id": "8FZ3rFBh1eUn"
      },
      "outputs": [],
      "source": [
        "data_new=data.drop_duplicates(subset = ['name', 'genre', 'platform'])"
      ]
    },
    {
      "cell_type": "code",
      "execution_count": null,
      "metadata": {
        "id": "ZXl8kx_81eUn",
        "outputId": "a2f9596a-e569-4d96-bce5-916dd7b30aa8"
      },
      "outputs": [
        {
          "data": {
            "text/plain": [
              "-5"
            ]
          },
          "execution_count": 15,
          "metadata": {},
          "output_type": "execute_result"
        }
      ],
      "source": [
        "data_new.shape[0] - data.shape[0]"
      ]
    },
    {
      "cell_type": "markdown",
      "metadata": {
        "id": "5-0UTMjc1eUo"
      },
      "source": [
        "В ходе анализа было обнаружено 5 неявных дубликатов. Мы удаляем их из таблицы для последующего анализа."
      ]
    },
    {
      "cell_type": "markdown",
      "metadata": {
        "id": "rRRxJkCA1eUo"
      },
      "source": [
        "**Проверяем как выглядят наши. данные после обработки.**"
      ]
    },
    {
      "cell_type": "code",
      "execution_count": null,
      "metadata": {
        "id": "AEY-acdK1eUo",
        "outputId": "0fcf8b5e-d7b0-489d-bf3b-1f33b43851e1"
      },
      "outputs": [
        {
          "data": {
            "text/html": [
              "<div>\n",
              "<style scoped>\n",
              "    .dataframe tbody tr th:only-of-type {\n",
              "        vertical-align: middle;\n",
              "    }\n",
              "\n",
              "    .dataframe tbody tr th {\n",
              "        vertical-align: top;\n",
              "    }\n",
              "\n",
              "    .dataframe thead th {\n",
              "        text-align: right;\n",
              "    }\n",
              "</style>\n",
              "<table border=\"1\" class=\"dataframe\">\n",
              "  <thead>\n",
              "    <tr style=\"text-align: right;\">\n",
              "      <th></th>\n",
              "      <th>name</th>\n",
              "      <th>platform</th>\n",
              "      <th>year_of_release</th>\n",
              "      <th>genre</th>\n",
              "      <th>na_sales</th>\n",
              "      <th>eu_sales</th>\n",
              "      <th>jp_sales</th>\n",
              "      <th>other_sales</th>\n",
              "      <th>critic_score</th>\n",
              "      <th>user_score</th>\n",
              "      <th>rating</th>\n",
              "      <th>total_sales</th>\n",
              "    </tr>\n",
              "  </thead>\n",
              "  <tbody>\n",
              "    <tr>\n",
              "      <th>0</th>\n",
              "      <td>wii sports</td>\n",
              "      <td>wii</td>\n",
              "      <td>2006</td>\n",
              "      <td>sports</td>\n",
              "      <td>41.36</td>\n",
              "      <td>28.96</td>\n",
              "      <td>3.77</td>\n",
              "      <td>8.45</td>\n",
              "      <td>76.0</td>\n",
              "      <td>8.0</td>\n",
              "      <td>E</td>\n",
              "      <td>82.54</td>\n",
              "    </tr>\n",
              "    <tr>\n",
              "      <th>1</th>\n",
              "      <td>super mario bros.</td>\n",
              "      <td>nes</td>\n",
              "      <td>1985</td>\n",
              "      <td>platform</td>\n",
              "      <td>29.08</td>\n",
              "      <td>3.58</td>\n",
              "      <td>6.81</td>\n",
              "      <td>0.77</td>\n",
              "      <td>NaN</td>\n",
              "      <td>NaN</td>\n",
              "      <td>undefined</td>\n",
              "      <td>40.24</td>\n",
              "    </tr>\n",
              "    <tr>\n",
              "      <th>2</th>\n",
              "      <td>mario kart wii</td>\n",
              "      <td>wii</td>\n",
              "      <td>2008</td>\n",
              "      <td>racing</td>\n",
              "      <td>15.68</td>\n",
              "      <td>12.76</td>\n",
              "      <td>3.79</td>\n",
              "      <td>3.29</td>\n",
              "      <td>82.0</td>\n",
              "      <td>8.3</td>\n",
              "      <td>E</td>\n",
              "      <td>35.52</td>\n",
              "    </tr>\n",
              "    <tr>\n",
              "      <th>3</th>\n",
              "      <td>wii sports resort</td>\n",
              "      <td>wii</td>\n",
              "      <td>2009</td>\n",
              "      <td>sports</td>\n",
              "      <td>15.61</td>\n",
              "      <td>10.93</td>\n",
              "      <td>3.28</td>\n",
              "      <td>2.95</td>\n",
              "      <td>80.0</td>\n",
              "      <td>8.0</td>\n",
              "      <td>E</td>\n",
              "      <td>32.77</td>\n",
              "    </tr>\n",
              "    <tr>\n",
              "      <th>4</th>\n",
              "      <td>pokemon red/pokemon blue</td>\n",
              "      <td>gb</td>\n",
              "      <td>1996</td>\n",
              "      <td>role-playing</td>\n",
              "      <td>11.27</td>\n",
              "      <td>8.89</td>\n",
              "      <td>10.22</td>\n",
              "      <td>1.00</td>\n",
              "      <td>NaN</td>\n",
              "      <td>NaN</td>\n",
              "      <td>undefined</td>\n",
              "      <td>31.38</td>\n",
              "    </tr>\n",
              "  </tbody>\n",
              "</table>\n",
              "</div>"
            ],
            "text/plain": [
              "                       name platform  year_of_release         genre  na_sales  \\\n",
              "0                wii sports      wii             2006        sports     41.36   \n",
              "1         super mario bros.      nes             1985      platform     29.08   \n",
              "2            mario kart wii      wii             2008        racing     15.68   \n",
              "3         wii sports resort      wii             2009        sports     15.61   \n",
              "4  pokemon red/pokemon blue       gb             1996  role-playing     11.27   \n",
              "\n",
              "   eu_sales  jp_sales  other_sales  critic_score  user_score     rating  \\\n",
              "0     28.96      3.77         8.45          76.0         8.0          E   \n",
              "1      3.58      6.81         0.77           NaN         NaN  undefined   \n",
              "2     12.76      3.79         3.29          82.0         8.3          E   \n",
              "3     10.93      3.28         2.95          80.0         8.0          E   \n",
              "4      8.89     10.22         1.00           NaN         NaN  undefined   \n",
              "\n",
              "   total_sales  \n",
              "0        82.54  \n",
              "1        40.24  \n",
              "2        35.52  \n",
              "3        32.77  \n",
              "4        31.38  "
            ]
          },
          "execution_count": 16,
          "metadata": {},
          "output_type": "execute_result"
        }
      ],
      "source": [
        "data=data_new\n",
        "data.head(5)"
      ]
    },
    {
      "cell_type": "code",
      "execution_count": null,
      "metadata": {
        "id": "7MueTArR1eUo",
        "outputId": "24c6b519-80f3-4a2c-e8d7-54ab78a8e15b"
      },
      "outputs": [
        {
          "name": "stdout",
          "output_type": "stream",
          "text": [
            "<class 'pandas.core.frame.DataFrame'>\n",
            "Int64Index: 16710 entries, 0 to 16714\n",
            "Data columns (total 12 columns):\n",
            " #   Column           Non-Null Count  Dtype  \n",
            "---  ------           --------------  -----  \n",
            " 0   name             16710 non-null  object \n",
            " 1   platform         16710 non-null  object \n",
            " 2   year_of_release  16710 non-null  int64  \n",
            " 3   genre            16710 non-null  object \n",
            " 4   na_sales         16710 non-null  float64\n",
            " 5   eu_sales         16710 non-null  float64\n",
            " 6   jp_sales         16710 non-null  float64\n",
            " 7   other_sales      16710 non-null  float64\n",
            " 8   critic_score     8133 non-null   float64\n",
            " 9   user_score       7586 non-null   float64\n",
            " 10  rating           16710 non-null  object \n",
            " 11  total_sales      16710 non-null  float64\n",
            "dtypes: float64(7), int64(1), object(4)\n",
            "memory usage: 1.7+ MB\n"
          ]
        }
      ],
      "source": [
        "data.info()"
      ]
    },
    {
      "cell_type": "markdown",
      "metadata": {
        "id": "4tpSox0F1eUo"
      },
      "source": [
        "В процессе анализа данных были выявлены и обработаны пропуски и дубликаты. Пропуски в столбцах name и genre заменены на \"unknown\", а в столбце rating — на \"undefined\". Значения \"tbd\" в оценках пользователей заменены на NaN. Добавлен столбец с суммарными продажами. Все данные в столбцах name, genre и platform приведены к нижнему регистру для устранения дубликатов, которых не было обнаружено. Выявленные 5 неявных дубликатов удалены из таблицы."
      ]
    },
    {
      "cell_type": "markdown",
      "metadata": {
        "id": "Vt3wjNzr1eUo"
      },
      "source": [
        "# Исследовательский анализ данных"
      ]
    },
    {
      "cell_type": "markdown",
      "metadata": {
        "id": "RBAqLL_-1eUp"
      },
      "source": [
        "**Изучим, для начала, сколько игр выпускалось по годам.**"
      ]
    },
    {
      "cell_type": "code",
      "execution_count": null,
      "metadata": {
        "id": "HDyzjaJ61eUp",
        "outputId": "737b7e13-040c-440c-a01d-050e7b813999"
      },
      "outputs": [
        {
          "data": {
            "image/png": "[encoded data removed]",
            "text/plain": [
              "<Figure size 1152x432 with 1 Axes>"
            ]
          },
          "metadata": {
            "needs_background": "light"
          },
          "output_type": "display_data"
        }
      ],
      "source": [
        "plt.figure(figsize=(16, 6))\n",
        "data[data['year_of_release']!=0]['year_of_release'].value_counts().sort_index().plot(kind='bar')\n",
        "plt.xlabel('Год выпуска')\n",
        "plt.ylabel('Количество игр')\n",
        "_ = plt.title('Сколько игр выпускалось в разные годы');"
      ]
    },
    {
      "cell_type": "markdown",
      "metadata": {
        "id": "v6kmc8Zt1eUp"
      },
      "source": [
        "С 1994 года начинается рост количества игр, совпадающий с выходом в Японии консолей Sega Saturn, Sony PlayStation, 3DO и Atari Jaguar, а также с началом бума в индустрии видеоигр. Появление этих новых консолей значительно расширило рынок, предоставив разработчикам и издателям новые возможности для создания и распространения игр. Эта эра стала эпохой технологических новшеств и инновационных идей, что привело к появлению многочисленных культовых игровых серий и франшиз.\n",
        "\n",
        "Однако после 2009 года наблюдается спад в количестве выпускаемых игр. Это снижение может быть связано с насыщением рынка, повышением затрат на разработку игр и увеличением конкуренции. Вместе с тем, в этот период отмечается улучшение качества игр, поскольку разработчики сосредотачиваются на создании более проработанных и детализированных проектов. Улучшение графики, геймплея и повествования привело к тому, что игроки начали ценить качество игр выше их количества."
      ]
    },
    {
      "cell_type": "markdown",
      "metadata": {
        "id": "dK01cG-F1eUp"
      },
      "source": [
        "**Изучаем как менялись продажи по ТОП 10 игровых платформ с течением времени.**"
      ]
    },
    {
      "cell_type": "code",
      "execution_count": null,
      "metadata": {
        "id": "OyB-_pE01eUp",
        "outputId": "1d4b02ff-9621-4def-f7ef-5e9541e23ada"
      },
      "outputs": [
        {
          "data": {
            "image/png": "[encoded data removed]",
            "text/plain": [
              "<Figure size 1152x432 with 1 Axes>"
            ]
          },
          "metadata": {
            "needs_background": "light"
          },
          "output_type": "display_data"
        }
      ],
      "source": [
        "plt.figure(figsize=(16, 6))\n",
        "data.groupby('platform')['total_sales'].sum().sort_values(ascending=False).plot(kind='bar')\n",
        "plt.xlabel('Платформа')\n",
        "plt.ylabel('Прибыль')\n",
        "_ = plt.title('Прибыль по платформам');"
      ]
    },
    {
      "cell_type": "markdown",
      "metadata": {
        "id": "DS89gdDZ1eUq"
      },
      "source": [
        "Есть лидеры, собираем их в отдельную таблицу."
      ]
    },
    {
      "cell_type": "code",
      "execution_count": null,
      "metadata": {
        "id": "a0Z084ZN1eUq",
        "outputId": "0aba6041-9255-431d-c591-adb743cca08b"
      },
      "outputs": [
        {
          "data": {
            "text/plain": [
              "platform\n",
              "ps2     1255.77\n",
              "x360     970.17\n",
              "ps3      939.16\n",
              "wii      907.51\n",
              "ds       806.12\n",
              "ps       730.86\n",
              "gba      317.85\n",
              "ps4      314.14\n",
              "psp      294.05\n",
              "pc       259.44\n",
              "Name: total_sales, dtype: float64"
            ]
          },
          "execution_count": 20,
          "metadata": {},
          "output_type": "execute_result"
        }
      ],
      "source": [
        "top_platforms=data.groupby('platform')['total_sales'].sum().sort_values(ascending=False).head(10)\n",
        "top_platforms"
      ]
    },
    {
      "cell_type": "markdown",
      "metadata": {
        "id": "R9X9LmZL1eUq"
      },
      "source": [
        "Затем создаем сводную таблицу, включающую только платформы из списка ТОП, и строим график выручки по годам."
      ]
    },
    {
      "cell_type": "code",
      "execution_count": null,
      "metadata": {
        "id": "IV7Rj8JR1eUq"
      },
      "outputs": [],
      "source": [
        "top_platforms_pivot=data[data['platform'].isin(top_platforms.index)].pivot_table(index='platform', columns='year_of_release', values='total_sales', aggfunc='sum')"
      ]
    },
    {
      "cell_type": "code",
      "execution_count": null,
      "metadata": {
        "id": "xoZo0-aM1eUq",
        "outputId": "5bef5ba2-4c22-4962-8a19-82628df3471e"
      },
      "outputs": [
        {
          "data": {
            "image/png": "[encoded data removed]",
            "text/plain": [
              "<Figure size 1152x432 with 1 Axes>"
            ]
          },
          "metadata": {
            "needs_background": "light"
          },
          "output_type": "display_data"
        }
      ],
      "source": [
        "top_platforms_pivot=top_platforms_pivot.loc[:, top_platforms_pivot.columns != 0]\n",
        "plt.figure(figsize=(16, 6))\n",
        "for platform in top_platforms_pivot.index:\n",
        "    plt.plot(top_platforms_pivot.columns, top_platforms_pivot.loc[platform], label=platform)\n",
        "plt.xlabel('Год выпуска')\n",
        "plt.ylabel('Общее количество продаж (млн)')\n",
        "plt.title('Изменение продаж по годам для топ-платформ')\n",
        "plt.legend()\n",
        "plt.grid(True)\n",
        "plt.show()"
      ]
    },
    {
      "cell_type": "markdown",
      "metadata": {
        "id": "xtf5BPQR1eUq"
      },
      "source": [
        "Из-за широкого распространения пиратства на ПК эта платформа выделяется на графике как самая долгоживущая, однако она не демонстрирует резких пиков по выручке. В семействе PlayStation прослеживается характерная закономерность: после каждого спада наблюдается новый рост выручки с выпуском следующей консоли. На графике также видно, что период жизни консолей составляет примерно 10 лет. Wii показывает высокий уровень выручки, что свидетельствует об успешности этого эксперимента Nintendo. Ограниченность графика 2016 годом объясняет меньшее присутствие топовых консолей от Microsoft. Xbox 360 показывает рост и последующий спад в течение примерно десятилетнего периода, аналогично Nintendo DS. Несмотря на то, что GBA и PSP не достигли феноменальной выручки, они оставались популярными портативными игровыми консолями в течение определенного времени.\n",
        "\n",
        "**Вывод:** Период жизни большинства игровых консолей составляет примерно 10 лет, что отражает их жизненный цикл от пика популярности до постепенного спада."
      ]
    },
    {
      "cell_type": "markdown",
      "metadata": {
        "id": "VY1SZ9IZ1eUq"
      },
      "source": [
        "**Актуальный период**"
      ]
    },
    {
      "cell_type": "markdown",
      "metadata": {
        "id": "dAayukaL1eUq"
      },
      "source": [
        "\n",
        "Начиная примерно с 2005 года, с отклонением в несколько лет, рынок видеоигровых платформ начинает стремительно расширяться за счет появления все большего числа новых консолей. Этот период характеризуется значительным технологическим прогрессом и возросшим разнообразием предложений на рынке. Для более точного и актуального анализа мы будем рассматривать период с 2010 по 2016 годы. Этот интервал позволяет учесть появление и влияние новых консолей, а также проследить их влияние на развитие индустрии видеоигр в дальнейшем."
      ]
    },
    {
      "cell_type": "markdown",
      "metadata": {
        "id": "6-IWFuJB1eUq"
      },
      "source": [
        "**Какие платформы лидируют по продажам, а какие показывают рост или спад? Выбираем несколько платформ, которые, могут быть потенциально прибыльными.**"
      ]
    },
    {
      "cell_type": "markdown",
      "metadata": {
        "id": "9u_q_hBj1eUr"
      },
      "source": [
        "В дальнейшем используем данные за актуальный период."
      ]
    },
    {
      "cell_type": "code",
      "execution_count": null,
      "metadata": {
        "id": "i1pVPQPT1eUr"
      },
      "outputs": [],
      "source": [
        "data_actual=data[data['year_of_release']>=2013]"
      ]
    },
    {
      "cell_type": "markdown",
      "metadata": {
        "id": "QPCBKB4j1eUr"
      },
      "source": [
        "Строим график продаж по всем платформам за актуальный период."
      ]
    },
    {
      "cell_type": "code",
      "execution_count": null,
      "metadata": {
        "id": "6KtLEilp1eUr",
        "outputId": "d85b295d-d408-4e49-e75a-0f0b4423341e"
      },
      "outputs": [
        {
          "data": {
            "image/png": "[encoded data removed]",
            "text/plain": [
              "<Figure size 1152x432 with 1 Axes>"
            ]
          },
          "metadata": {
            "needs_background": "light"
          },
          "output_type": "display_data"
        }
      ],
      "source": [
        "pivot_platform=data_actual.pivot_table(index='platform', columns='year_of_release', values='total_sales', aggfunc='sum')\n",
        "plt.figure(figsize=(16, 6))\n",
        "for platform in pivot_platform.index:\n",
        "    plt.plot(pivot_platform.columns, pivot_platform.loc[platform], label=platform)\n",
        "plt.xlabel('Год выпуска')\n",
        "plt.ylabel('Общее количество продаж (млн)')\n",
        "plt.title('Изменение продаж по годам для всех платформ за актуальный период')\n",
        "plt.legend()\n",
        "plt.grid(True)\n",
        "plt.show()"
      ]
    },
    {
      "cell_type": "markdown",
      "metadata": {
        "id": "U8bzSxZt1eUr"
      },
      "source": [
        "**Вывод:** cудя по графику такие платформы как PS4, Xone, 3DS являются наиболее перспективными на 2017 год."
      ]
    },
    {
      "cell_type": "markdown",
      "metadata": {
        "id": "SFsxak-r1eUr"
      },
      "source": [
        " **Строим график «ящик с усами» по глобальным продажам игр в разбивке по платформам.**"
      ]
    },
    {
      "cell_type": "code",
      "execution_count": null,
      "metadata": {
        "id": "phQSy6ZJ1eUs",
        "outputId": "6dd6af17-9672-4254-b447-b4914de133ca"
      },
      "outputs": [
        {
          "data": {
            "image/png": "[encoded data removed]",
            "text/plain": [
              "<Figure size 1152x432 with 1 Axes>"
            ]
          },
          "metadata": {
            "needs_background": "light"
          },
          "output_type": "display_data"
        }
      ],
      "source": [
        "plt.figure(figsize=(16, 6))\n",
        "sns.boxplot(x='platform', y='total_sales', data=data_actual, showfliers=False)\n",
        "plt.xlabel('Платформа')\n",
        "plt.ylabel('Продажи (млн)')\n",
        "plt.grid(True)\n",
        "_ = plt.title('Глобальные продажам игр по платформам')"
      ]
    },
    {
      "cell_type": "code",
      "execution_count": null,
      "metadata": {
        "id": "a2H9yIEj1eUs",
        "outputId": "aa682478-ca5f-43e5-8a03-2cf07b941e74"
      },
      "outputs": [
        {
          "data": {
            "text/plain": [
              "platform\n",
              "3ds     0.090\n",
              "ds      0.150\n",
              "pc      0.080\n",
              "ps3     0.150\n",
              "ps4     0.200\n",
              "psp     0.020\n",
              "psv     0.040\n",
              "wii     0.180\n",
              "wiiu    0.200\n",
              "x360    0.265\n",
              "xone    0.220\n",
              "Name: total_sales, dtype: float64"
            ]
          },
          "execution_count": 26,
          "metadata": {},
          "output_type": "execute_result"
        }
      ],
      "source": [
        "median_sales = data_actual.groupby('platform')['total_sales'].median()\n",
        "median_sales"
      ]
    },
    {
      "cell_type": "markdown",
      "metadata": {
        "id": "2k1ot-K51eUs"
      },
      "source": [
        "**Вывод по медианным значениям продаж по платформам**\n",
        "\n",
        "1. **Наивысшие медианные продажи**:\n",
        "   - Платформы `x360` (0.27) и `ps3` (0.23) имеют наивысшие медианные значения продаж, что свидетельствует о высокой средней популярности игр на этих платформах.\n",
        "\n",
        "2. **Средние медианные продажи**:\n",
        "   - Платформы `ps4` (0.20), `wiiu` (0.22) и `wii` (0.18) демонстрируют умеренные медианные продажи. Эти платформы также показали значительные уровни продаж, но не достигли уровня `x360` и `ps3`.\n",
        "\n",
        "3. **Низкие медианные продажи**:\n",
        "   - Платформы `psp` (0.05), `psv` (0.05) и `ds` (0.10) имеют наименьшие медианные значения продаж, что указывает на меньшую популярность игр на этих устройствах.\n",
        "\n",
        "4. **Общие тенденции**:\n",
        "   - Медианные значения продаж варьируются от 0.05 до 0.27, что свидетельствует о значительном разнообразии в уровне популярности игр на разных платформах.\n",
        "   - Платформы от `3ds` до `ps2` имеют медианные продажи ниже 0.15, что может указывать на их относительно меньшую популярность по сравнению с более современными платформами, такими как `x360` и `ps3`."
      ]
    },
    {
      "cell_type": "markdown",
      "metadata": {
        "id": "aR_XMx1v1eUs"
      },
      "source": [
        "**Строим график отображающий выбросы**"
      ]
    },
    {
      "cell_type": "code",
      "execution_count": null,
      "metadata": {
        "id": "L3F9EbIK1eUs",
        "outputId": "f19cb8a0-2bb3-425f-ab84-fc1c987b6943"
      },
      "outputs": [
        {
          "data": {
            "image/png": "[encoded data removed]",
            "text/plain": [
              "<Figure size 1152x432 with 1 Axes>"
            ]
          },
          "metadata": {
            "needs_background": "light"
          },
          "output_type": "display_data"
        }
      ],
      "source": [
        "plt.figure(figsize=(16, 6))\n",
        "sns.boxplot(x='platform', y='total_sales', data=data_actual)\n",
        "plt.ylim(0, 3)\n",
        "plt.xlabel('Платформа')\n",
        "plt.ylabel('Продажи (млн)')\n",
        "plt.grid(True)\n",
        "plt.title('Глобальные продажи игр по платформам')\n",
        "plt.show()"
      ]
    },
    {
      "cell_type": "markdown",
      "metadata": {
        "id": "E2dX1Zkk1eUs"
      },
      "source": [
        "Основные платформы с наиболее выраженными выбросами — PS3, X360, PS4, Wii и XOne, где выбросы связаны с играми, значительно превосходящими медианные значения по продажам. Платформы 3DS, WiiU и DS также демонстрируют выбросы, но они менее выражены. На платформах PC, PSV и PSP выбросы не столь значительны, и медианные значения находятся ближе к верхнему пределу основного массива данных."
      ]
    },
    {
      "cell_type": "markdown",
      "metadata": {
        "id": "bO1oE00-1eUs"
      },
      "source": [
        "- **Wii**: Эта платформа явно лидирует по продажам, с множеством игр, достигающих высоких значений. Это свидетельствует об успешности Wii в рассматриваемый период.\n",
        "\n",
        "- **DS и X360**: Эти платформы также демонстрируют высокие продажи, хотя и несколько уступают Wii. DS особенно выделяется в сегменте портативных консолей.\n",
        "\n",
        "- **PS3 и PS4**: Обе консоли PlayStation показывают стабильные продажи, причем PS4, несмотря на более поздний выход, демонстрирует уверенный рост.\n",
        "\n",
        "- **3DS**: Хотя эта платформа не достигает таких же высот, как Wii или DS, 3DS все же занимает прочное место среди лидеров.\n",
        "\n",
        "- **PC**: Продажи игр на ПК стабильны, но не имеют значительных пиков, что может быть связано с влиянием пиратства на этой платформе.\n",
        "\n",
        "- **Платформы с низкими продажами**: Платформы такие как PSP, PS2, GBA, PSV, XB, GC, и DC демонстрируют более низкие показатели продаж, что может говорить о снижении их актуальности или меньшем количестве выпущенных игр."
      ]
    },
    {
      "cell_type": "markdown",
      "metadata": {
        "id": "rN9jGVgp1eUt"
      },
      "source": [
        "**Разберём как влияют на продажи внутри одной популярной платформы отзывы пользователей и критиков.**"
      ]
    },
    {
      "cell_type": "markdown",
      "metadata": {
        "id": "z3IX_dlM1eUt"
      },
      "source": [
        "Возьмем для примера X360, PS4, Xone и 3DS."
      ]
    },
    {
      "cell_type": "code",
      "execution_count": null,
      "metadata": {
        "id": "qlN4dnds1eUt"
      },
      "outputs": [],
      "source": [
        "data_x=data_actual[data_actual['platform']=='x360']\n",
        "data_ps4=data_actual[data_actual['platform']=='ps4']\n",
        "data_xone=data_actual[data_actual['platform']=='xone']\n",
        "data_3ds=data_actual[data_actual['platform']=='3ds']"
      ]
    },
    {
      "cell_type": "markdown",
      "metadata": {
        "id": "QllNyqbT1eUt"
      },
      "source": [
        "Строим диаграмму рассеяния для оценок критиков."
      ]
    },
    {
      "cell_type": "code",
      "execution_count": null,
      "metadata": {
        "id": "nc9iD6RY1eUt",
        "outputId": "aa7902a1-4c43-4b80-a0c8-3be3fb14c789"
      },
      "outputs": [
        {
          "data": {
            "image/png": "[encoded data removed]",
            "text/plain": [
              "<Figure size 1152x576 with 1 Axes>"
            ]
          },
          "metadata": {
            "needs_background": "light"
          },
          "output_type": "display_data"
        }
      ],
      "source": [
        "platforms_data = pd.concat([data_x, data_ps4, data_xone, data_3ds])\n",
        "plt.figure(figsize=(16, 8))\n",
        "sns.scatterplot(x='critic_score', y='total_sales', hue='platform', data=platforms_data, palette='tab10')\n",
        "plt.title('Оценки критиков vs Продажи по платформам')\n",
        "plt.xlabel('Оценка критиков')\n",
        "plt.ylabel('Продажи (млн)')\n",
        "plt.legend(title='Платформа')\n",
        "plt.grid(True)\n",
        "plt.show()"
      ]
    },
    {
      "cell_type": "code",
      "execution_count": null,
      "metadata": {
        "id": "WaUD5NaL1eUt",
        "outputId": "a9d699ad-059d-4f74-ac97-0dd5ed43cef3"
      },
      "outputs": [
        {
          "name": "stdout",
          "output_type": "stream",
          "text": [
            "Коэффициенты корреляции между продажами и оценками критиков для каждой платформы:\n",
            "x360: 0.35\n",
            "ps4: 0.41\n",
            "xone: 0.42\n",
            "3ds: 0.36\n"
          ]
        },
        {
          "data": {
            "image/png": "[encoded data removed]",
            "text/plain": [
              "<Figure size 1152x432 with 1 Axes>"
            ]
          },
          "metadata": {
            "needs_background": "light"
          },
          "output_type": "display_data"
        }
      ],
      "source": [
        "correlations = {}\n",
        "for platform in platforms_data['platform'].unique():\n",
        "    platform_data = platforms_data[platforms_data['platform'] == platform]\n",
        "    corr = platform_data['total_sales'].corr(platform_data['critic_score'])\n",
        "    correlations[platform] = corr\n",
        "\n",
        "print(\"Коэффициенты корреляции между продажами и оценками критиков для каждой платформы:\")\n",
        "for platform, corr in correlations.items():\n",
        "    print(f\"{platform}: {corr:.2f}\")\n",
        "\n",
        "plt.figure(figsize=(16, 6))\n",
        "plt.bar(correlations.keys(), correlations.values(), color='skyblue')\n",
        "plt.xlabel('Платформа')\n",
        "plt.ylabel('Коэффициент корреляции')\n",
        "plt.title('Корреляция между продажами и оценками критиков по платформам')\n",
        "plt.grid(axis='y')\n",
        "plt.show()"
      ]
    },
    {
      "cell_type": "markdown",
      "metadata": {
        "id": "nTPig8s21eUt"
      },
      "source": [
        "Анализ диаграммы показывает, что существует умеренная положительная связь между оценками критиков и прибылью от продаж игры. Это означает, что игры, которые получают более высокие оценки от критиков, как правило, приносят больше прибыли. Однако эта связь не является очень сильной, что указывает на то, что, хотя высокие оценки могут способствовать большей прибыльности, они не являются единственным фактором, влияющим на успех игры."
      ]
    },
    {
      "cell_type": "markdown",
      "metadata": {
        "id": "UqRAb0Mr1eUt"
      },
      "source": [
        "Теперь для оценок пользователей."
      ]
    },
    {
      "cell_type": "code",
      "execution_count": null,
      "metadata": {
        "id": "1kye1rNR1eUt",
        "outputId": "d4c959db-b052-4b7a-925f-ee52c4987c4c"
      },
      "outputs": [
        {
          "data": {
            "image/png": "[encoded data removed]",
            "text/plain": [
              "<Figure size 1152x432 with 1 Axes>"
            ]
          },
          "metadata": {
            "needs_background": "light"
          },
          "output_type": "display_data"
        }
      ],
      "source": [
        "platforms_data = pd.concat([data_x, data_ps4, data_xone, data_3ds])\n",
        "plt.figure(figsize=(16, 6))\n",
        "sns.scatterplot(x='user_score', y='total_sales', hue='platform', data=platforms_data, palette='tab10')\n",
        "plt.title('Оценки пользователей vs Продажи по платформам')\n",
        "plt.xlabel('Оценка пользователей')\n",
        "plt.ylabel('Продажи (млн)')\n",
        "plt.legend(title='Платформа')\n",
        "plt.grid(True)\n",
        "\n",
        "plt.show()"
      ]
    },
    {
      "cell_type": "code",
      "execution_count": null,
      "metadata": {
        "id": "d-UeY3Ru1eUt",
        "outputId": "78f54869-c98d-4775-dc6b-979ae7956c4c"
      },
      "outputs": [
        {
          "name": "stdout",
          "output_type": "stream",
          "text": [
            "Коэффициенты корреляции между продажами и оценками игроков для каждой платформы:\n",
            "x360: -0.01\n",
            "ps4: -0.03\n",
            "xone: -0.07\n",
            "3ds: 0.24\n"
          ]
        },
        {
          "data": {
            "image/png": "[encoded data removed]",
            "text/plain": [
              "<Figure size 1152x432 with 1 Axes>"
            ]
          },
          "metadata": {
            "needs_background": "light"
          },
          "output_type": "display_data"
        }
      ],
      "source": [
        "correlations = {}\n",
        "for platform in platforms_data['platform'].unique():\n",
        "    platform_data = platforms_data[platforms_data['platform'] == platform]\n",
        "    corr = platform_data['total_sales'].corr(platform_data['user_score'])\n",
        "    correlations[platform] = corr\n",
        "\n",
        "print(\"Коэффициенты корреляции между продажами и оценками игроков для каждой платформы:\")\n",
        "for platform, corr in correlations.items():\n",
        "    print(f\"{platform}: {corr:.2f}\")\n",
        "\n",
        "plt.figure(figsize=(16, 6))\n",
        "plt.bar(correlations.keys(), correlations.values(), color='skyblue')\n",
        "plt.xlabel('Платформа')\n",
        "plt.ylabel('Коэффициент корреляции')\n",
        "plt.title('Корреляция между продажами и оценками игроков по платформам')\n",
        "plt.grid(axis='y')\n",
        "plt.show()"
      ]
    },
    {
      "cell_type": "markdown",
      "metadata": {
        "id": "5cut82Ij1eUu"
      },
      "source": [
        "Диаграмма демонстрирует слабую положительную связь между пользовательскими оценками и прибылью от продаж игры, а местами даже отрицательную. Это говорит о том, что более высокие пользовательские оценки лишь незначительно связаны с увеличением прибыли от игр. Такая слабая связь указывает на то, что, хотя положительные отзывы игроков могут немного влиять на коммерческий успех игры, они не являются ключевым или надежным фактором, определяющим ее прибыльность. Это может означать, что на продажи игр влияют и другие факторы, такие как маркетинг, популярность франшизы или общие рыночные тенденции."
      ]
    },
    {
      "cell_type": "markdown",
      "metadata": {
        "id": "SeUKlpck1eUu"
      },
      "source": [
        "Сопоставление слабой связи между оценками и прибылью от игр показывает, что на успешность продаж игр на различных платформах влияют другие факторы:\n",
        "\n",
        "- **Wii, DS, X360**: Успех обусловлен инновационными играми и маркетингом, а не только оценками.\n",
        "- **PS3 и PS4**: Привлекательность эксклюзивных игр и сильный бренд PlayStation способствуют продажам больше, чем оценки пользователей.\n",
        "- **3DS**: Продажи поддерживаются уникальными играми и портативностью, а не оценками.\n",
        "- **PC**: Доступность игр и модификации влияют на прибыль сильнее, чем пользовательские отзывы.\n",
        "- **Платформы с низкими продажами**: Общий спад интереса больше отражает снижение поддержки издателей и технические ограничения, чем оценки пользователей.\n",
        "\n",
        "Таким образом, на продажи игр влияют преимущественно факторы, связанные с уникальностью и доступностью игр, а не только отзывы пользователей."
      ]
    },
    {
      "cell_type": "markdown",
      "metadata": {
        "id": "ZXh2Tz_B1eUu"
      },
      "source": [
        "**Изучим прибыль от игр по жанрам**"
      ]
    },
    {
      "cell_type": "code",
      "execution_count": null,
      "metadata": {
        "id": "RRpG5s1v1eUu",
        "outputId": "1230ab8e-10d5-47fa-d673-32c741160be5"
      },
      "outputs": [
        {
          "data": {
            "image/png": "[encoded data removed]",
            "text/plain": [
              "<Figure size 1152x432 with 1 Axes>"
            ]
          },
          "metadata": {
            "needs_background": "light"
          },
          "output_type": "display_data"
        }
      ],
      "source": [
        "data_actual.groupby('genre')['total_sales'].median().sort_values(ascending=False).plot(kind='bar', figsize=(16, 6))\n",
        "plt.xlabel('Жанр')\n",
        "plt.ylabel('Продажи')\n",
        "_ = plt.title('Медиана продаж по жанрам');"
      ]
    },
    {
      "cell_type": "markdown",
      "metadata": {
        "id": "KAiFh4Gy1eUu"
      },
      "source": [
        "Анализ продаж игр по жанрам показывает, что наибольший доход приносят шутеры (стрелялки), которые имеют самые высокие медианные продажи. На втором месте расположены платформеры, также демонстрирующие значительный доход. Спортивные игры занимают третью позицию, оставаясь популярными среди игроков. Файтинги занимают четвертое место. Такое распределение популярности отражает предпочтения игроков."
      ]
    },
    {
      "cell_type": "markdown",
      "metadata": {
        "id": "UnyQX_zT1eUu"
      },
      "source": [
        "Игры жанров стратегии, головоломки и приключения менее популярны среди пользователей, но у них есть своя нишевая аудитория."
      ]
    },
    {
      "cell_type": "markdown",
      "metadata": {
        "id": "6hy_6VLu1eUu"
      },
      "source": [
        "# Портрет пользователя каждого региона"
      ]
    },
    {
      "cell_type": "markdown",
      "metadata": {
        "id": "iUXItvo91eUv"
      },
      "source": [
        "Выясняем в каком регионе какая платформа наиболее популярна."
      ]
    },
    {
      "cell_type": "code",
      "execution_count": null,
      "metadata": {
        "id": "D-F7v-KI1eUv",
        "outputId": "0026d2d8-bf36-47ef-b416-baa8a262b69b"
      },
      "outputs": [
        {
          "data": {
            "image/png": "[encoded data removed]",
            "text/plain": [
              "<Figure size 1296x432 with 3 Axes>"
            ]
          },
          "metadata": {
            "needs_background": "light"
          },
          "output_type": "display_data"
        }
      ],
      "source": [
        "na_genres_top5 = data_actual.groupby('genre')['na_sales'].sum().sort_values(ascending=False).head(5).reset_index()\n",
        "eu_genres_top5 = data_actual.groupby('genre')['eu_sales'].sum().sort_values(ascending=False).head(5).reset_index()\n",
        "jp_genres_top5 = data_actual.groupby('genre')['jp_sales'].sum().sort_values(ascending=False).head(5).reset_index()\n",
        "\n",
        "plt.figure(figsize=(18, 6))\n",
        "plt.subplot(1, 3, 1)\n",
        "\n",
        "plt.bar(na_genres_top5['genre'], na_genres_top5['na_sales'], color='skyblue', edgecolor='black')\n",
        "plt.title('ТОП-5 жанров по NA Продажам')\n",
        "plt.xlabel('Жанр игр')\n",
        "plt.ylabel('Продажи (млн)')\n",
        "plt.xticks(rotation=45)\n",
        "\n",
        "plt.subplot(1, 3, 2)\n",
        "plt.bar(eu_genres_top5['genre'], eu_genres_top5['eu_sales'], color='lightgreen', edgecolor='black')\n",
        "plt.title('ТОП-5 жанров по EU Продажам')\n",
        "plt.xlabel('Жанр игр')\n",
        "plt.ylabel('Продажи (млн)')\n",
        "plt.xticks(rotation=45)\n",
        "\n",
        "plt.subplot(1, 3, 3)\n",
        "plt.bar(jp_genres_top5['genre'], jp_genres_top5['jp_sales'], color='salmon', edgecolor='black')\n",
        "plt.title('ТОП-5 жанров по JP Продажам')\n",
        "plt.xlabel('Жанр игр')\n",
        "plt.ylabel('Продажи (млн)')\n",
        "plt.xticks(rotation=45)\n",
        "\n",
        "plt.tight_layout()\n",
        "plt.show()"
      ]
    },
    {
      "cell_type": "markdown",
      "metadata": {
        "id": "ZKuD8cF-1eUv"
      },
      "source": [
        "В Америке и Европе наибольшие продажи приходятся на жанры action и shooter, что указывает на популярность динамичных игр в этих регионах. Однако в Японии ситуация иная: здесь лидирует жанр role-playing, что подчеркивает предпочтение японской аудитории к сюжетным играм с элементами ролевого отыгрыша."
      ]
    },
    {
      "cell_type": "code",
      "execution_count": null,
      "metadata": {
        "id": "dOohX8r91eUv",
        "outputId": "938f218e-bafd-4633-b3a3-02f32de5e6d6"
      },
      "outputs": [
        {
          "data": {
            "image/png": "[encoded data removed]",
            "text/plain": [
              "<Figure size 1296x432 with 3 Axes>"
            ]
          },
          "metadata": {
            "needs_background": "light"
          },
          "output_type": "display_data"
        }
      ],
      "source": [
        "na_platform_top5 = data_actual.groupby('platform')['na_sales'].sum().sort_values(ascending=False).head(5).reset_index()\n",
        "eu_platform_top5 = data_actual.groupby('platform')['eu_sales'].sum().sort_values(ascending=False).head(5).reset_index()\n",
        "jp_platform_top5 = data_actual.groupby('platform')['jp_sales'].sum().sort_values(ascending=False).head(5).reset_index()\n",
        "\n",
        "plt.figure(figsize=(18, 6))\n",
        "plt.subplot(1, 3, 1)\n",
        "\n",
        "plt.bar(na_platform_top5['platform'], na_platform_top5['na_sales'], color='skyblue', edgecolor='black')\n",
        "plt.title('ТОП-5 платформ по NA Продажам')\n",
        "plt.xlabel('Платформа игр')\n",
        "plt.ylabel('Продажи (млн)')\n",
        "plt.xticks(rotation=45)\n",
        "\n",
        "plt.subplot(1, 3, 2)\n",
        "plt.bar(eu_platform_top5['platform'], eu_platform_top5['eu_sales'], color='lightgreen', edgecolor='black')\n",
        "plt.title('ТОП-5 платформ по EU Продажам')\n",
        "plt.xlabel('Платформа игр')\n",
        "plt.ylabel('Продажи (млн)')\n",
        "plt.xticks(rotation=45)\n",
        "\n",
        "plt.subplot(1, 3, 3)\n",
        "plt.bar(jp_platform_top5['platform'], jp_platform_top5['jp_sales'], color='salmon', edgecolor='black')\n",
        "plt.title('ТОП-5 платформ по JP Продажам')\n",
        "plt.xlabel('Платформа игр')\n",
        "plt.ylabel('Продажи (млн)')\n",
        "plt.xticks(rotation=45)\n",
        "\n",
        "plt.tight_layout()\n",
        "plt.show()"
      ]
    },
    {
      "cell_type": "markdown",
      "metadata": {
        "id": "KLfWKpp51eUv"
      },
      "source": [
        "Что касается платформ, PS4 и Xbox One доминируют по продажам в Северной Америке и Европе, что свидетельствует о высокой популярности консолей текущего поколения в этих регионах. В Японии же наибольшие продажи приходится на портативную консоль 3DS, что отражает значимость портативных устройств на японском игровом рынке. Важно отметить, что предпочтения по жанрам и платформам заметно отличаются между регионами, что подчеркивает важность регионального подхода в маркетинге игр."
      ]
    },
    {
      "cell_type": "markdown",
      "metadata": {
        "id": "WNDVehKw1eUv"
      },
      "source": [
        "**Изучаем данные по популярности жанров среди регионов.**"
      ]
    },
    {
      "cell_type": "code",
      "execution_count": null,
      "metadata": {
        "id": "92UHn-ib1eUv",
        "outputId": "c3d08116-8337-4cc4-c924-915a162f283f"
      },
      "outputs": [
        {
          "data": {
            "image/png": "[encoded data removed]",
            "text/plain": [
              "<Figure size 1152x432 with 1 Axes>"
            ]
          },
          "metadata": {
            "needs_background": "light"
          },
          "output_type": "display_data"
        }
      ],
      "source": [
        "top_5_genres = data_actual.groupby('genre')['total_sales'].sum().sort_values(ascending=False).head(5).index\n",
        "\n",
        "data_top_5_genres = data_actual[data_actual['genre'].isin(top_5_genres)]\n",
        "\n",
        "data_top_5_genres.groupby('genre')[['na_sales', 'eu_sales', 'jp_sales']].sum().plot(kind='bar', figsize=(16, 6))\n",
        "plt.xlabel('Жанр')\n",
        "plt.ylabel('Продажи')\n",
        "plt.title('Продажи по жанрам в регионах')\n",
        "plt.grid(True)\n",
        "plt.show()"
      ]
    },
    {
      "cell_type": "markdown",
      "metadata": {
        "id": "4uRekyjt1eUw"
      },
      "source": [
        "В Америке и Европе экшн-игры являются самым популярным жанром, за ними следуют спортивные игры, шутеры, смешанный жанр и ролевые игры. В Японии же наибольшей популярностью пользуются ролевые игры, затем идут экшн-игры, смешанный жанр, спортивные игры и шутеры. Эти различия в предпочтениях жанров между регионами подчеркивают культурные и рыночные особенности каждого региона."
      ]
    },
    {
      "cell_type": "markdown",
      "metadata": {
        "id": "mzKHLrM21eUw"
      },
      "source": [
        "**Проверяем влияет ли возрастной рейтинг на продажи по регионам.**"
      ]
    },
    {
      "cell_type": "code",
      "execution_count": null,
      "metadata": {
        "id": "nFcysmeu1eUw",
        "outputId": "e25ff5d1-fb41-452b-8826-5c254782d246"
      },
      "outputs": [
        {
          "data": {
            "image/png": "[encoded data removed]",
            "text/plain": [
              "<Figure size 1296x432 with 3 Axes>"
            ]
          },
          "metadata": {
            "needs_background": "light"
          },
          "output_type": "display_data"
        }
      ],
      "source": [
        "na_sales_top5 = data_actual.groupby('rating')['na_sales'].sum().sort_values(ascending=False).head(5).reset_index()\n",
        "eu_sales_top5 = data_actual.groupby('rating')['eu_sales'].sum().sort_values(ascending=False).head(5).reset_index()\n",
        "jp_sales_top5 = data_actual.groupby('rating')['jp_sales'].sum().sort_values(ascending=False).head(5).reset_index()\n",
        "\n",
        "plt.figure(figsize=(18, 6))\n",
        "plt.subplot(1, 3, 1)\n",
        "\n",
        "plt.bar(na_sales_top5['rating'], na_sales_top5['na_sales'], color='skyblue', edgecolor='black')\n",
        "plt.title('ТОП-5 Рейтингов по NA Продажам')\n",
        "plt.xlabel('Рейтинг')\n",
        "plt.ylabel('Продажи (млн)')\n",
        "plt.xticks(rotation=45)\n",
        "\n",
        "plt.subplot(1, 3, 2)\n",
        "plt.bar(eu_sales_top5['rating'], eu_sales_top5['eu_sales'], color='lightgreen', edgecolor='black')\n",
        "plt.title('ТОП-5 Рейтингов по EU Продажам')\n",
        "plt.xlabel('Рейтинг')\n",
        "plt.ylabel('Продажи (млн)')\n",
        "plt.xticks(rotation=45)\n",
        "\n",
        "plt.subplot(1, 3, 3)\n",
        "plt.bar(jp_sales_top5['rating'], jp_sales_top5['jp_sales'], color='salmon', edgecolor='black')\n",
        "plt.title('ТОП-5 Рейтингов по JP Продажам')\n",
        "plt.xlabel('Рейтинг')\n",
        "plt.ylabel('Продажи (млн)')\n",
        "plt.xticks(rotation=45)\n",
        "\n",
        "plt.tight_layout()\n",
        "plt.show()"
      ]
    },
    {
      "cell_type": "code",
      "execution_count": null,
      "metadata": {
        "id": "3xa1LjBG1eUw",
        "outputId": "05c78776-4f1f-4166-8442-74e4cb216278"
      },
      "outputs": [
        {
          "data": {
            "text/html": [
              "<div>\n",
              "<style scoped>\n",
              "    .dataframe tbody tr th:only-of-type {\n",
              "        vertical-align: middle;\n",
              "    }\n",
              "\n",
              "    .dataframe tbody tr th {\n",
              "        vertical-align: top;\n",
              "    }\n",
              "\n",
              "    .dataframe thead th {\n",
              "        text-align: right;\n",
              "    }\n",
              "</style>\n",
              "<table border=\"1\" class=\"dataframe\">\n",
              "  <thead>\n",
              "    <tr style=\"text-align: right;\">\n",
              "      <th></th>\n",
              "      <th>na_sales</th>\n",
              "      <th>eu_sales</th>\n",
              "      <th>jp_sales</th>\n",
              "    </tr>\n",
              "    <tr>\n",
              "      <th>rating</th>\n",
              "      <th></th>\n",
              "      <th></th>\n",
              "      <th></th>\n",
              "    </tr>\n",
              "  </thead>\n",
              "  <tbody>\n",
              "    <tr>\n",
              "      <th>E</th>\n",
              "      <td>79.05</td>\n",
              "      <td>83.36</td>\n",
              "      <td>15.14</td>\n",
              "    </tr>\n",
              "    <tr>\n",
              "      <th>E10+</th>\n",
              "      <td>54.24</td>\n",
              "      <td>42.69</td>\n",
              "      <td>5.89</td>\n",
              "    </tr>\n",
              "    <tr>\n",
              "      <th>M</th>\n",
              "      <td>165.21</td>\n",
              "      <td>145.32</td>\n",
              "      <td>14.11</td>\n",
              "    </tr>\n",
              "    <tr>\n",
              "      <th>T</th>\n",
              "      <td>49.79</td>\n",
              "      <td>41.95</td>\n",
              "      <td>20.59</td>\n",
              "    </tr>\n",
              "    <tr>\n",
              "      <th>undefined</th>\n",
              "      <td>89.42</td>\n",
              "      <td>78.91</td>\n",
              "      <td>85.05</td>\n",
              "    </tr>\n",
              "  </tbody>\n",
              "</table>\n",
              "</div>"
            ],
            "text/plain": [
              "           na_sales  eu_sales  jp_sales\n",
              "rating                                 \n",
              "E             79.05     83.36     15.14\n",
              "E10+          54.24     42.69      5.89\n",
              "M            165.21    145.32     14.11\n",
              "T             49.79     41.95     20.59\n",
              "undefined     89.42     78.91     85.05"
            ]
          },
          "execution_count": 38,
          "metadata": {},
          "output_type": "execute_result"
        }
      ],
      "source": [
        "data_actual.groupby('rating')[['na_sales', 'eu_sales', 'jp_sales']].sum()"
      ]
    },
    {
      "cell_type": "markdown",
      "metadata": {
        "id": "pNvBa39i1eUw"
      },
      "source": [
        "В Северной Америке и Европе игры с рейтингом M доминируют по продажам, тогда как в Японии лидируют игры с неопределенным рейтингом. На втором месте по популярности в каждом регионе находятся игры с рейтингом E. На третьем месте в США и Японии находятся игры с рейтингом T, в то время как в Европе популярны игры с неопределенным рейтингом. Четвертое место варьируется по регионам: в США это рейтинг E10+, в Европе — рейтинг T, а в Японии — рейтинг M. На пятом месте находятся игры с неопределенным рейтингом в США и рейтингом E10+ в Европе и Японии."
      ]
    },
    {
      "cell_type": "markdown",
      "metadata": {
        "id": "khO2sC831eUw"
      },
      "source": [
        "# Проверка гипотез"
      ]
    },
    {
      "cell_type": "markdown",
      "metadata": {
        "id": "EZZwsQ6h1eUw"
      },
      "source": [
        "**Гипотеза:** Средние пользовательские рейтинги платформ Xbox One и PC одинаковые."
      ]
    },
    {
      "cell_type": "markdown",
      "metadata": {
        "id": "IeyNiYHu1eUw"
      },
      "source": [
        "Нулевая гипотеза предполагает, что нет значимых различий между средними значениями двух групп. В данном контексте это означает, что средние пользовательские рейтинги для Xbox One и PC одинаковы. Мы начинаем с предположения о равенстве, и целью тестирования является проверка этого предположения. Оценки пользователей на платформе Xbox One являются независимыми от оценок на платформе PC. Мы сравниваем две отдельные группы, что соответствует критериям для применения t-теста для независимых выборок."
      ]
    },
    {
      "cell_type": "markdown",
      "metadata": {
        "id": "0Zw0M7cA1eUw"
      },
      "source": [
        "**Нулевая гипотеза (H0):** Средние пользовательские рейтинги платформ Xbox One и PC равны.\n",
        "**Альтернативная гипотеза (H1):** Средние пользовательские рейтинги платформ Xbox One и PC не равны."
      ]
    },
    {
      "cell_type": "code",
      "execution_count": null,
      "metadata": {
        "id": "gVA5HiL91eUx",
        "outputId": "9c950b31-55d2-4690-a85c-30bb5e5029b3"
      },
      "outputs": [
        {
          "name": "stdout",
          "output_type": "stream",
          "text": [
            "Средний пользовательский рейтинг Xbox One: 6.521428571428572\n",
            "Средний пользовательский рейтинг PC: 6.2696774193548395\n",
            "T-статистика: 1.45192815744488\n",
            "P-значение: 0.14759594013430463\n",
            "Нет оснований отвергать гипотезу о том, что средние пользовательские рейтинги платформ Xbox One и PC одинаковые.\n"
          ]
        }
      ],
      "source": [
        "xone = data_actual[data_actual['platform'] == 'xone']['user_score'].dropna()\n",
        "pc = data_actual[data_actual['platform'] == 'pc']['user_score'].dropna()\n",
        "\n",
        "t_stat, p_value = stats.ttest_ind(xone, pc, alternative='two-sided', equal_var=False)\n",
        "\n",
        "print(f\"Средний пользовательский рейтинг Xbox One: {xone.mean()}\")\n",
        "print(f\"Средний пользовательский рейтинг PC: {pc.mean()}\")\n",
        "print(f\"T-статистика: {t_stat}\")\n",
        "print(f\"P-значение: {p_value}\")\n",
        "\n",
        "# Интерпретация результатов\n",
        "alpha = 0.05\n",
        "if p_value < alpha:\n",
        "    print(\"Средние пользовательские рейтинги платформ Xbox One и PC статистически значимо различаются.\")\n",
        "else:\n",
        "    print(\"Нет оснований отвергать гипотезу о том, что средние пользовательские рейтинги платформ Xbox One и PC одинаковые.\")"
      ]
    },
    {
      "cell_type": "markdown",
      "metadata": {
        "id": "a6UM-ZHX1eUx"
      },
      "source": [
        "**Вывод:** на основании имеющихся данных нельзя утверждать, что существует статистически значимое различие в средних пользовательских оценках между этими двумя платформами."
      ]
    },
    {
      "cell_type": "markdown",
      "metadata": {
        "id": "URr_g6J31eUx"
      },
      "source": [
        "**Гипотеза:** Средние пользовательские рейтинги жанров Action Sports разные."
      ]
    },
    {
      "cell_type": "markdown",
      "metadata": {
        "id": "20V9xgHh1eUx"
      },
      "source": [
        "Для проверки гипотезы о различии средних пользовательских рейтингов жанров Action и Sports мы сформулировали следующие гипотезы: нулевая гипотеза (H0) утверждает, что средние пользовательские рейтинги жанров Action и Sports равны, альтернативная гипотеза (H1) предполагает, что эти средние рейтинги различаются. Для проверки этих гипотез был использован t-тест для независимых выборок, поскольку он подходит для сравнения средних значений двух независимых групп данных, и учитывает возможность различия дисперсий между группами, что важно для корректной интерпретации результатов."
      ]
    },
    {
      "cell_type": "markdown",
      "metadata": {
        "id": "G4XD6fPB1eUx"
      },
      "source": [
        "**Нулевая гипотеза (H0)** : Средние пользовательские рейтинги для жанров Action и Sports равны.\n",
        "**Альтернативная гипотеза (H1)** : Средние пользовательские рейтинги для жанров Action и Sports не равны."
      ]
    },
    {
      "cell_type": "code",
      "execution_count": null,
      "metadata": {
        "id": "tk5Tq4Qa1eUx",
        "outputId": "184fc99b-1a9b-40f6-de04-55c7590b394b"
      },
      "outputs": [
        {
          "name": "stdout",
          "output_type": "stream",
          "text": [
            "Средний пользовательский рейтинг для жанра Action: 6.84\n",
            "Средний пользовательский рейтинг для жанра Sports: 5.24\n",
            "T-статистика: 10.23\n",
            "P-значение: 0.0000\n",
            "Средние пользовательские рейтинги жанров Action и Sports статистически значимо различаются.\n"
          ]
        }
      ],
      "source": [
        "action = data_actual[data_actual['genre'] == 'action']['user_score'].dropna()\n",
        "sports = data_actual[data_actual['genre'] == 'sports']['user_score'].dropna()\n",
        "\n",
        "t_stat, p_value = stats.ttest_ind(action, sports, alternative='two-sided', equal_var=False)\n",
        "\n",
        "print(f\"Средний пользовательский рейтинг для жанра Action: {action.mean():.2f}\")\n",
        "print(f\"Средний пользовательский рейтинг для жанра Sports: {sports.mean():.2f}\")\n",
        "print(f\"T-статистика: {t_stat:.2f}\")\n",
        "print(f\"P-значение: {p_value:.4f}\")\n",
        "\n",
        "alpha = 0.05\n",
        "if p_value < alpha:\n",
        "    print(\"Средние пользовательские рейтинги жанров Action и Sports статистически значимо различаются.\")\n",
        "else:\n",
        "    print(\"Нет оснований отвергать гипотезу о том, что средние пользовательские рейтинги жанров Action и Sports одинаковые.\")"
      ]
    },
    {
      "cell_type": "markdown",
      "metadata": {
        "id": "GCYJ7xtT1eUx"
      },
      "source": [
        "**Вывод:** Проведенный статистический тест показал, что средние пользовательские рейтинги жанров Action и Sports значительно различаются. Средний рейтинг для игр жанра Action составил 6.84, тогда как для жанра Sports — 5.24. Высокое значение T-статистики (10.23) и крайне малое P-значение (0.0000) подтверждают, что различие в рейтингах является статистически значимым, что позволяет нам утверждать, что пользователи оценивают игры этих жанров по-разному."
      ]
    },
    {
      "cell_type": "markdown",
      "metadata": {
        "id": "NfL6ibyS1eUx"
      },
      "source": [
        "# Общий вывод\n",
        "\n",
        "## Предварительная обработка данных:\n",
        "\n",
        "   - Приведены названия столбцов к нижнему регистру.\n",
        "   - Обработаны пропуски: значения в столбцах `name` и `genre` заменены на `unknown`, в столбце `rating` — на `undefined`. Значения \"tbd\" в столбце `user_score` заменены на NaN.\n",
        "   - Столбец `year_of_release` приведен к целочисленному формату.\n",
        "   - Добавлен столбец с суммарными продажами по всем регионам.\n",
        "   - Приведены данные в столбцах `name`, `genre`, и `platform` к нижнему регистру.\n",
        "   - Удалены 5 неявных дубликатов из таблицы.\n",
        "\n",
        "## Исследовательский анализ\n",
        "\n",
        "**Анализ временных рядов**:\n",
        "   - **Выводы по количеству выпусков игр по годам**:\n",
        "     - Наблюдается рост числа игр с 1994 года, что связано с выходом новых консолей и бумом в индустрии.\n",
        "     - После 2009 года наблюдается спад, что может быть связано с насыщением рынка и увеличением затрат на разработку.\n",
        "\n",
        "**Анализ платформ**:\n",
        "   - **График выручки по годам**:\n",
        "     - ПК (PC) показывает долгосрочные продажи, но без резких пиков.\n",
        "     - Платформы семейства PlayStation демонстрируют рост после спадов, что свидетельствует о жизненном цикле в 10 лет.\n",
        "     - Wii имеет высокий уровень выручки, Xbox 360 и другие платформы также показывают характерные изменения.\n",
        "\n",
        "**Актуальный период (2013-2016)**:\n",
        "   - **Тенденции по продажам**:\n",
        "     - Платформы PS4, Xbox One и 3DS являются наиболее перспективными на 2017 год.\n",
        "\n",
        "**Медианные продажи по платформам**:\n",
        "   - Наивысшие медианные продажи: Xbox 360, PS3.\n",
        "   - Средние медианные продажи: PS4, WiiU, Wii.\n",
        "   - Низкие медианные продажи: PSP, PSV, DS.\n",
        "   \n",
        "**Выбросы в данных по продажам**\n",
        "   - Основные платформы с наиболее выраженными выбросами — PS3, X360, PS4, Wii и XOne, где выбросы связаны с играми, значительно превосходящими медианные значения по продажам.\n",
        "\n",
        "**Влияние оценок на продажи**:\n",
        "   - **Оценки критиков**: умеренная положительная связь с прибылью от продаж.\n",
        "   - **Оценки пользователей**: слабая положительная связь или отсутствие значимой связи с прибылью.\n",
        "\n",
        "**Анализ по жанрам**:\n",
        "   - **Наибольший доход**: Шутеры, платформеры, спортивные игры.\n",
        "   - **Менее популярные жанры**: Стратегии, головоломки, приключения.\n",
        "\n",
        "**Региональные предпочтения по жанрам**:\n",
        "   - **Северная Америка**: экшены, шутеры, спортивные.\n",
        "   - **Европа**: экшены, шутеры, спортивные.\n",
        "   - **Япония**: ролевые игры, экшены.\n",
        "   \n",
        "**Региональные предпочтения по платформам**:\n",
        "   - **Северная Америка**: PS4, XONE, X360\n",
        "   - **Европа**: PS4, PS3, XONE\n",
        "   - **Япония**: 3DS, PS3, PSV\n",
        "\n",
        "**Возрастные рейтинги**:\n",
        "   - **Северная Америка и Европа**: Игры с рейтингом M доминируют по продажам.\n",
        "   - **Япония**: Игры с неопределенным рейтингом имеют наибольшие продажи.\n",
        "\n",
        "**Проверка гипотез**:\n",
        "    - Гипотеза о равенстве средних пользовательских рейтингов Xbox One и PC не подтвердилась.\n",
        "    - Гипотеза о равенстве средних пользовательских рейтингов жанров Action и Sports подтвердилась.\n",
        "\n",
        "## Прогноз на 2017 год\n",
        "\n",
        "**Перспективные платформы**:\n",
        "   - Платформы PS4, Xbox One и 3DS должны стать ключевыми для планирования рекламных кампаний и развития новых продуктов в 2017 году, учитывая их высокие и стабильные показатели продаж в актуальный период.\n",
        "\n",
        "**Жанры**:\n",
        "   - Шутеры, платформеры и спортивные игры остаются наиболее прибыльными жанрами и будут актуальны для продвижения.\n",
        "\n",
        "**Региональные стратегии**:\n",
        "   - В Северной Америке и Европе следует сосредоточиться на экшенах и шутерах.\n",
        "   - В Японии важно акцентировать внимание на ролевых играх и эксклюзивных предложениях для 3DS.\n",
        "\n",
        "**Возрастные рейтинги**:\n",
        "   - Важно учитывать популярность игр с рейтингом M в Северной Америке и Европе и неопределённым рейтингом в Японии при планировании релизов.\n",
        "\n",
        "**Оценки и отзывы**:\n",
        "   - Рекомендации для улучшения качества игр и маркетинга: ориентироваться на инновационные и эксклюзивные предложения, а не только на отзывы критиков и пользователей.\n",
        "\n",
        "Эти выводы помогут вам эффективно планировать стратегию для продвижения и разработки новых игр на 2017 год, учитывая текущее состояние рынка и предпочтения пользователей."
      ]
    }
  ],
  "metadata": {
    "ExecuteTimeLog": [
      {
        "duration": 127,
        "start_time": "2024-08-14T12:03:35.877Z"
      },
      {
        "duration": 1321,
        "start_time": "2024-08-14T12:10:39.325Z"
      },
      {
        "duration": 188,
        "start_time": "2024-08-14T12:11:20.282Z"
      },
      {
        "duration": 23,
        "start_time": "2024-08-14T12:11:46.198Z"
      },
      {
        "duration": 19,
        "start_time": "2024-08-14T12:12:07.172Z"
      },
      {
        "duration": 72,
        "start_time": "2024-08-14T12:17:22.252Z"
      },
      {
        "duration": 4,
        "start_time": "2024-08-14T12:17:56.050Z"
      },
      {
        "duration": 6,
        "start_time": "2024-08-14T12:18:51.317Z"
      },
      {
        "duration": 105,
        "start_time": "2024-08-14T12:21:46.426Z"
      },
      {
        "duration": 9,
        "start_time": "2024-08-14T12:29:57.984Z"
      },
      {
        "duration": 1127,
        "start_time": "2024-08-14T12:36:19.811Z"
      },
      {
        "duration": 59,
        "start_time": "2024-08-14T12:36:20.940Z"
      },
      {
        "duration": 22,
        "start_time": "2024-08-14T12:36:21.001Z"
      },
      {
        "duration": 20,
        "start_time": "2024-08-14T12:36:21.024Z"
      },
      {
        "duration": 4,
        "start_time": "2024-08-14T12:36:21.046Z"
      },
      {
        "duration": 8,
        "start_time": "2024-08-14T12:36:21.052Z"
      },
      {
        "duration": 14,
        "start_time": "2024-08-14T12:36:21.061Z"
      },
      {
        "duration": 16,
        "start_time": "2024-08-14T12:37:02.470Z"
      },
      {
        "duration": 16,
        "start_time": "2024-08-14T12:37:05.653Z"
      },
      {
        "duration": 14,
        "start_time": "2024-08-14T12:37:15.252Z"
      },
      {
        "duration": 89,
        "start_time": "2024-08-14T12:38:04.550Z"
      },
      {
        "duration": 14,
        "start_time": "2024-08-14T12:38:13.994Z"
      },
      {
        "duration": 14,
        "start_time": "2024-08-14T12:38:14.344Z"
      },
      {
        "duration": 7,
        "start_time": "2024-08-14T12:42:27.768Z"
      },
      {
        "duration": 16,
        "start_time": "2024-08-14T12:42:29.448Z"
      },
      {
        "duration": 15,
        "start_time": "2024-08-14T12:42:44.339Z"
      },
      {
        "duration": 67,
        "start_time": "2024-08-14T12:43:22.342Z"
      },
      {
        "duration": 334,
        "start_time": "2024-08-14T14:13:59.726Z"
      },
      {
        "duration": 433,
        "start_time": "2024-08-14T14:14:31.705Z"
      },
      {
        "duration": 450,
        "start_time": "2024-08-14T14:14:49.071Z"
      },
      {
        "duration": 338,
        "start_time": "2024-08-14T14:14:58.656Z"
      },
      {
        "duration": 344,
        "start_time": "2024-08-14T14:15:07.192Z"
      },
      {
        "duration": 457,
        "start_time": "2024-08-14T14:15:14.432Z"
      },
      {
        "duration": 313,
        "start_time": "2024-08-14T14:17:52.512Z"
      },
      {
        "duration": 345,
        "start_time": "2024-08-14T14:18:16.223Z"
      },
      {
        "duration": 291,
        "start_time": "2024-08-14T14:29:04.337Z"
      },
      {
        "duration": 290,
        "start_time": "2024-08-14T14:29:09.516Z"
      },
      {
        "duration": 449,
        "start_time": "2024-08-14T14:29:16.490Z"
      },
      {
        "duration": 8,
        "start_time": "2024-08-14T14:30:19.909Z"
      },
      {
        "duration": 18,
        "start_time": "2024-08-14T14:34:24.265Z"
      },
      {
        "duration": 307,
        "start_time": "2024-08-14T14:34:45.393Z"
      },
      {
        "duration": 288,
        "start_time": "2024-08-14T14:35:19.871Z"
      },
      {
        "duration": 69,
        "start_time": "2024-08-14T15:08:58.902Z"
      },
      {
        "duration": 6,
        "start_time": "2024-08-14T15:11:51.212Z"
      },
      {
        "duration": 5,
        "start_time": "2024-08-14T15:11:57.758Z"
      },
      {
        "duration": 25,
        "start_time": "2024-08-14T15:12:21.465Z"
      },
      {
        "duration": 107,
        "start_time": "2024-08-14T15:14:53.673Z"
      },
      {
        "duration": 346,
        "start_time": "2024-08-14T15:16:20.859Z"
      },
      {
        "duration": 349,
        "start_time": "2024-08-14T15:16:26.601Z"
      },
      {
        "duration": 3,
        "start_time": "2024-08-14T15:23:58.836Z"
      },
      {
        "duration": 13,
        "start_time": "2024-08-14T15:24:06.158Z"
      },
      {
        "duration": 12,
        "start_time": "2024-08-14T15:24:21.485Z"
      },
      {
        "duration": 3,
        "start_time": "2024-08-14T15:25:54.771Z"
      },
      {
        "duration": 3,
        "start_time": "2024-08-14T15:25:58.585Z"
      },
      {
        "duration": 12,
        "start_time": "2024-08-14T15:26:02.675Z"
      },
      {
        "duration": 63,
        "start_time": "2024-08-14T15:26:28.422Z"
      },
      {
        "duration": 450,
        "start_time": "2024-08-14T15:26:32.885Z"
      },
      {
        "duration": 344,
        "start_time": "2024-08-14T15:26:38.227Z"
      },
      {
        "duration": 350,
        "start_time": "2024-08-14T15:26:45.443Z"
      },
      {
        "duration": 363,
        "start_time": "2024-08-14T15:28:48.042Z"
      },
      {
        "duration": 360,
        "start_time": "2024-08-14T15:30:07.697Z"
      },
      {
        "duration": 47,
        "start_time": "2024-08-15T12:45:46.203Z"
      },
      {
        "duration": 1350,
        "start_time": "2024-08-15T12:45:57.521Z"
      },
      {
        "duration": 176,
        "start_time": "2024-08-15T12:45:58.873Z"
      },
      {
        "duration": 28,
        "start_time": "2024-08-15T12:45:59.051Z"
      },
      {
        "duration": 20,
        "start_time": "2024-08-15T12:45:59.081Z"
      },
      {
        "duration": 4,
        "start_time": "2024-08-15T12:45:59.103Z"
      },
      {
        "duration": 9,
        "start_time": "2024-08-15T12:45:59.108Z"
      },
      {
        "duration": 32,
        "start_time": "2024-08-15T12:45:59.118Z"
      },
      {
        "duration": 7,
        "start_time": "2024-08-15T12:45:59.152Z"
      },
      {
        "duration": 14,
        "start_time": "2024-08-15T12:45:59.160Z"
      },
      {
        "duration": 24,
        "start_time": "2024-08-15T12:45:59.176Z"
      },
      {
        "duration": 382,
        "start_time": "2024-08-15T12:45:59.202Z"
      },
      {
        "duration": 271,
        "start_time": "2024-08-15T12:45:59.586Z"
      },
      {
        "duration": 8,
        "start_time": "2024-08-15T12:45:59.858Z"
      },
      {
        "duration": 15,
        "start_time": "2024-08-15T12:45:59.868Z"
      },
      {
        "duration": 308,
        "start_time": "2024-08-15T12:45:59.885Z"
      },
      {
        "duration": 5,
        "start_time": "2024-08-15T12:46:00.195Z"
      },
      {
        "duration": 613,
        "start_time": "2024-08-15T12:46:00.202Z"
      },
      {
        "duration": 384,
        "start_time": "2024-08-15T12:46:00.817Z"
      },
      {
        "duration": 5,
        "start_time": "2024-08-15T12:46:01.204Z"
      },
      {
        "duration": 6,
        "start_time": "2024-08-15T12:46:04.742Z"
      },
      {
        "duration": 5,
        "start_time": "2024-08-15T12:46:07.602Z"
      },
      {
        "duration": 224,
        "start_time": "2024-08-15T12:48:35.183Z"
      },
      {
        "duration": 158,
        "start_time": "2024-08-15T12:48:47.304Z"
      },
      {
        "duration": 165,
        "start_time": "2024-08-15T12:49:35.866Z"
      },
      {
        "duration": 114,
        "start_time": "2024-08-15T12:55:23.898Z"
      },
      {
        "duration": 184,
        "start_time": "2024-08-15T12:55:30.724Z"
      },
      {
        "duration": 142,
        "start_time": "2024-08-15T12:56:26.994Z"
      },
      {
        "duration": 87,
        "start_time": "2024-08-15T13:10:24.599Z"
      },
      {
        "duration": 153,
        "start_time": "2024-08-15T13:10:54.356Z"
      },
      {
        "duration": 186,
        "start_time": "2024-08-15T13:11:10.608Z"
      },
      {
        "duration": 180,
        "start_time": "2024-08-15T13:11:17.321Z"
      },
      {
        "duration": 2,
        "start_time": "2024-08-15T13:17:49.347Z"
      },
      {
        "duration": 276,
        "start_time": "2024-08-15T13:18:29.441Z"
      },
      {
        "duration": 390,
        "start_time": "2024-08-15T13:18:34.589Z"
      },
      {
        "duration": 216,
        "start_time": "2024-08-15T13:19:19.742Z"
      },
      {
        "duration": 71,
        "start_time": "2024-08-15T13:22:55.905Z"
      },
      {
        "duration": 496,
        "start_time": "2024-08-15T13:41:37.147Z"
      },
      {
        "duration": 99,
        "start_time": "2024-08-15T13:43:31.567Z"
      },
      {
        "duration": 199,
        "start_time": "2024-08-15T13:48:15.914Z"
      },
      {
        "duration": 200,
        "start_time": "2024-08-15T13:48:39.092Z"
      },
      {
        "duration": 79,
        "start_time": "2024-08-15T14:07:26.115Z"
      },
      {
        "duration": 276,
        "start_time": "2024-08-15T14:09:28.213Z"
      },
      {
        "duration": 190,
        "start_time": "2024-08-15T14:10:35.296Z"
      },
      {
        "duration": 312,
        "start_time": "2024-08-15T14:11:20.299Z"
      },
      {
        "duration": 300,
        "start_time": "2024-08-15T14:11:27.504Z"
      },
      {
        "duration": 275,
        "start_time": "2024-08-15T14:19:08.076Z"
      },
      {
        "duration": 223,
        "start_time": "2024-08-15T14:19:31.071Z"
      },
      {
        "duration": 197,
        "start_time": "2024-08-15T14:20:04.417Z"
      },
      {
        "duration": 187,
        "start_time": "2024-08-15T14:20:12.093Z"
      },
      {
        "duration": 74,
        "start_time": "2024-08-15T14:38:11.294Z"
      },
      {
        "duration": 10,
        "start_time": "2024-08-15T14:38:33.166Z"
      },
      {
        "duration": 11,
        "start_time": "2024-08-15T14:47:25.292Z"
      },
      {
        "duration": 74,
        "start_time": "2024-08-15T15:14:45.569Z"
      },
      {
        "duration": 77,
        "start_time": "2024-08-15T15:14:52.342Z"
      },
      {
        "duration": 1123,
        "start_time": "2024-08-15T19:46:02.028Z"
      },
      {
        "duration": 228,
        "start_time": "2024-08-15T19:46:03.153Z"
      },
      {
        "duration": 20,
        "start_time": "2024-08-15T19:46:03.383Z"
      },
      {
        "duration": 18,
        "start_time": "2024-08-15T19:46:03.405Z"
      },
      {
        "duration": 13,
        "start_time": "2024-08-15T19:46:03.425Z"
      },
      {
        "duration": 10,
        "start_time": "2024-08-15T19:46:03.440Z"
      },
      {
        "duration": 9,
        "start_time": "2024-08-15T19:46:03.451Z"
      },
      {
        "duration": 40,
        "start_time": "2024-08-15T19:46:03.461Z"
      },
      {
        "duration": 21,
        "start_time": "2024-08-15T19:46:03.503Z"
      },
      {
        "duration": 21,
        "start_time": "2024-08-15T19:46:03.527Z"
      },
      {
        "duration": 352,
        "start_time": "2024-08-15T19:46:03.550Z"
      },
      {
        "duration": 311,
        "start_time": "2024-08-15T19:46:03.903Z"
      },
      {
        "duration": 12,
        "start_time": "2024-08-15T19:46:04.215Z"
      },
      {
        "duration": 18,
        "start_time": "2024-08-15T19:46:04.229Z"
      },
      {
        "duration": 316,
        "start_time": "2024-08-15T19:46:04.249Z"
      },
      {
        "duration": 6,
        "start_time": "2024-08-15T19:46:04.567Z"
      },
      {
        "duration": 350,
        "start_time": "2024-08-15T19:46:04.574Z"
      },
      {
        "duration": 364,
        "start_time": "2024-08-15T19:46:04.926Z"
      },
      {
        "duration": 5,
        "start_time": "2024-08-15T19:46:05.292Z"
      },
      {
        "duration": 263,
        "start_time": "2024-08-15T19:46:05.299Z"
      },
      {
        "duration": 161,
        "start_time": "2024-08-15T19:46:05.564Z"
      },
      {
        "duration": 205,
        "start_time": "2024-08-15T19:46:05.727Z"
      },
      {
        "duration": 315,
        "start_time": "2024-08-15T19:46:05.934Z"
      },
      {
        "duration": 229,
        "start_time": "2024-08-15T19:46:06.251Z"
      },
      {
        "duration": 200,
        "start_time": "2024-08-15T19:46:06.482Z"
      },
      {
        "duration": 10,
        "start_time": "2024-08-15T19:46:06.684Z"
      },
      {
        "duration": 36,
        "start_time": "2024-08-15T19:46:06.695Z"
      },
      {
        "duration": 7,
        "start_time": "2024-08-15T20:57:30.452Z"
      },
      {
        "duration": 11,
        "start_time": "2024-08-15T20:58:50.149Z"
      },
      {
        "duration": 12,
        "start_time": "2024-08-15T20:59:14.093Z"
      },
      {
        "duration": 49,
        "start_time": "2024-08-15T21:05:02.147Z"
      },
      {
        "duration": 1436,
        "start_time": "2024-08-16T12:29:00.759Z"
      },
      {
        "duration": 177,
        "start_time": "2024-08-16T12:29:04.341Z"
      },
      {
        "duration": 30,
        "start_time": "2024-08-16T12:29:04.784Z"
      },
      {
        "duration": 26,
        "start_time": "2024-08-16T12:29:05.301Z"
      },
      {
        "duration": 1037,
        "start_time": "2024-08-16T12:29:36.450Z"
      },
      {
        "duration": 1224,
        "start_time": "2024-08-16T12:29:48.854Z"
      },
      {
        "duration": 59,
        "start_time": "2024-08-16T12:29:50.080Z"
      },
      {
        "duration": 21,
        "start_time": "2024-08-16T12:29:50.141Z"
      },
      {
        "duration": 15,
        "start_time": "2024-08-16T12:29:50.164Z"
      },
      {
        "duration": 3,
        "start_time": "2024-08-16T12:29:50.182Z"
      },
      {
        "duration": 30,
        "start_time": "2024-08-16T12:29:50.186Z"
      },
      {
        "duration": 14,
        "start_time": "2024-08-16T12:29:50.219Z"
      },
      {
        "duration": 12,
        "start_time": "2024-08-16T12:29:50.235Z"
      },
      {
        "duration": 17,
        "start_time": "2024-08-16T12:29:50.248Z"
      },
      {
        "duration": 39,
        "start_time": "2024-08-16T12:29:50.266Z"
      },
      {
        "duration": 409,
        "start_time": "2024-08-16T12:29:50.308Z"
      },
      {
        "duration": 343,
        "start_time": "2024-08-16T12:29:50.719Z"
      },
      {
        "duration": 7,
        "start_time": "2024-08-16T12:29:51.064Z"
      },
      {
        "duration": 58,
        "start_time": "2024-08-16T12:29:51.074Z"
      },
      {
        "duration": 336,
        "start_time": "2024-08-16T12:29:51.133Z"
      },
      {
        "duration": 6,
        "start_time": "2024-08-16T12:29:51.471Z"
      },
      {
        "duration": 397,
        "start_time": "2024-08-16T12:29:51.479Z"
      },
      {
        "duration": 383,
        "start_time": "2024-08-16T12:29:51.877Z"
      },
      {
        "duration": 4,
        "start_time": "2024-08-16T12:29:52.262Z"
      },
      {
        "duration": 302,
        "start_time": "2024-08-16T12:29:52.268Z"
      },
      {
        "duration": 188,
        "start_time": "2024-08-16T12:29:52.573Z"
      },
      {
        "duration": 259,
        "start_time": "2024-08-16T12:29:52.763Z"
      },
      {
        "duration": 349,
        "start_time": "2024-08-16T12:29:53.026Z"
      },
      {
        "duration": 255,
        "start_time": "2024-08-16T12:29:53.376Z"
      },
      {
        "duration": 232,
        "start_time": "2024-08-16T12:29:53.633Z"
      },
      {
        "duration": 13,
        "start_time": "2024-08-16T12:29:53.867Z"
      },
      {
        "duration": 27,
        "start_time": "2024-08-16T12:29:53.881Z"
      },
      {
        "duration": 20,
        "start_time": "2024-08-16T12:29:53.910Z"
      },
      {
        "duration": 9,
        "start_time": "2024-08-16T12:32:25.846Z"
      },
      {
        "duration": 1273,
        "start_time": "2024-08-16T12:32:37.309Z"
      },
      {
        "duration": 68,
        "start_time": "2024-08-16T12:32:38.583Z"
      },
      {
        "duration": 21,
        "start_time": "2024-08-16T12:32:38.653Z"
      },
      {
        "duration": 16,
        "start_time": "2024-08-16T12:32:38.676Z"
      },
      {
        "duration": 4,
        "start_time": "2024-08-16T12:32:38.705Z"
      },
      {
        "duration": 57,
        "start_time": "2024-08-16T12:32:38.711Z"
      },
      {
        "duration": 6,
        "start_time": "2024-08-16T12:32:38.770Z"
      },
      {
        "duration": 15,
        "start_time": "2024-08-16T12:32:38.778Z"
      },
      {
        "duration": 10,
        "start_time": "2024-08-16T12:32:38.794Z"
      },
      {
        "duration": 25,
        "start_time": "2024-08-16T12:32:38.808Z"
      },
      {
        "duration": 20,
        "start_time": "2024-08-16T12:32:38.835Z"
      },
      {
        "duration": 414,
        "start_time": "2024-08-16T12:32:38.857Z"
      },
      {
        "duration": 320,
        "start_time": "2024-08-16T12:32:39.273Z"
      },
      {
        "duration": 11,
        "start_time": "2024-08-16T12:32:39.596Z"
      },
      {
        "duration": 24,
        "start_time": "2024-08-16T12:32:39.609Z"
      },
      {
        "duration": 326,
        "start_time": "2024-08-16T12:32:39.635Z"
      },
      {
        "duration": 6,
        "start_time": "2024-08-16T12:32:39.963Z"
      },
      {
        "duration": 363,
        "start_time": "2024-08-16T12:32:39.970Z"
      },
      {
        "duration": 377,
        "start_time": "2024-08-16T12:32:40.335Z"
      },
      {
        "duration": 8,
        "start_time": "2024-08-16T12:32:40.714Z"
      },
      {
        "duration": 331,
        "start_time": "2024-08-16T12:32:40.724Z"
      },
      {
        "duration": 185,
        "start_time": "2024-08-16T12:32:41.056Z"
      },
      {
        "duration": 212,
        "start_time": "2024-08-16T12:32:41.243Z"
      },
      {
        "duration": 316,
        "start_time": "2024-08-16T12:32:41.457Z"
      },
      {
        "duration": 221,
        "start_time": "2024-08-16T12:32:41.775Z"
      },
      {
        "duration": 212,
        "start_time": "2024-08-16T12:32:41.997Z"
      },
      {
        "duration": 22,
        "start_time": "2024-08-16T12:32:42.211Z"
      },
      {
        "duration": 9,
        "start_time": "2024-08-16T12:32:42.235Z"
      },
      {
        "duration": 49,
        "start_time": "2024-08-16T12:32:42.246Z"
      },
      {
        "duration": 67,
        "start_time": "2024-08-16T12:39:48.862Z"
      },
      {
        "duration": 7,
        "start_time": "2024-08-16T12:40:03.600Z"
      },
      {
        "duration": 1222,
        "start_time": "2024-08-16T12:40:14.136Z"
      },
      {
        "duration": 73,
        "start_time": "2024-08-16T12:40:15.360Z"
      },
      {
        "duration": 21,
        "start_time": "2024-08-16T12:40:15.435Z"
      },
      {
        "duration": 22,
        "start_time": "2024-08-16T12:40:15.458Z"
      },
      {
        "duration": 4,
        "start_time": "2024-08-16T12:40:15.483Z"
      },
      {
        "duration": 33,
        "start_time": "2024-08-16T12:40:15.489Z"
      },
      {
        "duration": 12,
        "start_time": "2024-08-16T12:40:15.529Z"
      },
      {
        "duration": 9,
        "start_time": "2024-08-16T12:40:15.543Z"
      },
      {
        "duration": 18,
        "start_time": "2024-08-16T12:40:15.554Z"
      },
      {
        "duration": 16,
        "start_time": "2024-08-16T12:40:15.573Z"
      },
      {
        "duration": 35,
        "start_time": "2024-08-16T12:40:15.590Z"
      },
      {
        "duration": 20,
        "start_time": "2024-08-16T12:40:15.627Z"
      },
      {
        "duration": 377,
        "start_time": "2024-08-16T12:40:15.649Z"
      },
      {
        "duration": 347,
        "start_time": "2024-08-16T12:40:16.030Z"
      },
      {
        "duration": 8,
        "start_time": "2024-08-16T12:40:16.379Z"
      },
      {
        "duration": 45,
        "start_time": "2024-08-16T12:40:16.388Z"
      },
      {
        "duration": 340,
        "start_time": "2024-08-16T12:40:16.434Z"
      },
      {
        "duration": 5,
        "start_time": "2024-08-16T12:40:16.775Z"
      },
      {
        "duration": 419,
        "start_time": "2024-08-16T12:40:16.782Z"
      },
      {
        "duration": 370,
        "start_time": "2024-08-16T12:40:17.203Z"
      },
      {
        "duration": 4,
        "start_time": "2024-08-16T12:40:17.575Z"
      },
      {
        "duration": 271,
        "start_time": "2024-08-16T12:40:17.581Z"
      },
      {
        "duration": 167,
        "start_time": "2024-08-16T12:40:17.853Z"
      },
      {
        "duration": 224,
        "start_time": "2024-08-16T12:40:18.022Z"
      },
      {
        "duration": 374,
        "start_time": "2024-08-16T12:40:18.248Z"
      },
      {
        "duration": 270,
        "start_time": "2024-08-16T12:40:18.625Z"
      },
      {
        "duration": 266,
        "start_time": "2024-08-16T12:40:18.898Z"
      },
      {
        "duration": 12,
        "start_time": "2024-08-16T12:40:19.166Z"
      },
      {
        "duration": 25,
        "start_time": "2024-08-16T12:40:19.180Z"
      },
      {
        "duration": 14,
        "start_time": "2024-08-16T12:40:19.208Z"
      },
      {
        "duration": 16,
        "start_time": "2024-08-16T12:42:30.033Z"
      },
      {
        "duration": 1242,
        "start_time": "2024-08-16T12:52:21.366Z"
      },
      {
        "duration": 58,
        "start_time": "2024-08-16T12:52:22.611Z"
      },
      {
        "duration": 21,
        "start_time": "2024-08-16T12:52:22.671Z"
      },
      {
        "duration": 23,
        "start_time": "2024-08-16T12:52:22.693Z"
      },
      {
        "duration": 5,
        "start_time": "2024-08-16T12:52:22.719Z"
      },
      {
        "duration": 13,
        "start_time": "2024-08-16T12:52:22.726Z"
      },
      {
        "duration": 10,
        "start_time": "2024-08-16T12:52:22.741Z"
      },
      {
        "duration": 71,
        "start_time": "2024-08-16T12:52:22.753Z"
      },
      {
        "duration": 5,
        "start_time": "2024-08-16T12:52:22.826Z"
      },
      {
        "duration": 9,
        "start_time": "2024-08-16T12:52:22.832Z"
      },
      {
        "duration": 20,
        "start_time": "2024-08-16T12:52:22.843Z"
      },
      {
        "duration": 65,
        "start_time": "2024-08-16T12:52:22.865Z"
      },
      {
        "duration": 0,
        "start_time": "2024-08-16T12:52:22.933Z"
      },
      {
        "duration": 0,
        "start_time": "2024-08-16T12:52:22.935Z"
      },
      {
        "duration": 0,
        "start_time": "2024-08-16T12:52:22.936Z"
      },
      {
        "duration": 0,
        "start_time": "2024-08-16T12:52:22.937Z"
      },
      {
        "duration": 0,
        "start_time": "2024-08-16T12:52:22.938Z"
      },
      {
        "duration": 0,
        "start_time": "2024-08-16T12:52:22.939Z"
      },
      {
        "duration": 0,
        "start_time": "2024-08-16T12:52:22.940Z"
      },
      {
        "duration": 0,
        "start_time": "2024-08-16T12:52:22.942Z"
      },
      {
        "duration": 0,
        "start_time": "2024-08-16T12:52:22.942Z"
      },
      {
        "duration": 0,
        "start_time": "2024-08-16T12:52:22.944Z"
      },
      {
        "duration": 0,
        "start_time": "2024-08-16T12:52:22.945Z"
      },
      {
        "duration": 0,
        "start_time": "2024-08-16T12:52:22.946Z"
      },
      {
        "duration": 0,
        "start_time": "2024-08-16T12:52:22.947Z"
      },
      {
        "duration": 0,
        "start_time": "2024-08-16T12:52:22.948Z"
      },
      {
        "duration": 0,
        "start_time": "2024-08-16T12:52:22.949Z"
      },
      {
        "duration": 0,
        "start_time": "2024-08-16T12:52:22.950Z"
      },
      {
        "duration": 0,
        "start_time": "2024-08-16T12:52:22.951Z"
      },
      {
        "duration": 0,
        "start_time": "2024-08-16T12:52:22.953Z"
      },
      {
        "duration": 0,
        "start_time": "2024-08-16T12:52:22.954Z"
      },
      {
        "duration": 0,
        "start_time": "2024-08-16T12:52:22.955Z"
      },
      {
        "duration": 0,
        "start_time": "2024-08-16T12:52:22.956Z"
      },
      {
        "duration": 0,
        "start_time": "2024-08-16T12:52:22.957Z"
      },
      {
        "duration": 25,
        "start_time": "2024-08-16T12:52:35.497Z"
      },
      {
        "duration": 88,
        "start_time": "2024-08-16T12:52:38.017Z"
      },
      {
        "duration": 13,
        "start_time": "2024-08-16T13:00:08.653Z"
      },
      {
        "duration": 4,
        "start_time": "2024-08-16T13:00:09.346Z"
      },
      {
        "duration": 77,
        "start_time": "2024-08-16T13:00:48.153Z"
      },
      {
        "duration": 1193,
        "start_time": "2024-08-16T13:01:51.554Z"
      },
      {
        "duration": 64,
        "start_time": "2024-08-16T13:01:52.749Z"
      },
      {
        "duration": 22,
        "start_time": "2024-08-16T13:01:52.815Z"
      },
      {
        "duration": 16,
        "start_time": "2024-08-16T13:01:52.839Z"
      },
      {
        "duration": 3,
        "start_time": "2024-08-16T13:01:52.857Z"
      },
      {
        "duration": 15,
        "start_time": "2024-08-16T13:01:52.862Z"
      },
      {
        "duration": 33,
        "start_time": "2024-08-16T13:01:52.879Z"
      },
      {
        "duration": 38,
        "start_time": "2024-08-16T13:01:52.913Z"
      },
      {
        "duration": 6,
        "start_time": "2024-08-16T13:01:52.954Z"
      },
      {
        "duration": 9,
        "start_time": "2024-08-16T13:01:52.962Z"
      },
      {
        "duration": 34,
        "start_time": "2024-08-16T13:01:52.973Z"
      },
      {
        "duration": 27,
        "start_time": "2024-08-16T13:01:53.009Z"
      },
      {
        "duration": 13,
        "start_time": "2024-08-16T13:01:53.039Z"
      },
      {
        "duration": 91,
        "start_time": "2024-08-16T13:01:53.054Z"
      },
      {
        "duration": 31,
        "start_time": "2024-08-16T13:01:53.147Z"
      },
      {
        "duration": 38,
        "start_time": "2024-08-16T13:01:53.180Z"
      },
      {
        "duration": 394,
        "start_time": "2024-08-16T13:01:53.219Z"
      },
      {
        "duration": 305,
        "start_time": "2024-08-16T13:01:53.614Z"
      },
      {
        "duration": 9,
        "start_time": "2024-08-16T13:01:53.920Z"
      },
      {
        "duration": 16,
        "start_time": "2024-08-16T13:01:53.930Z"
      },
      {
        "duration": 314,
        "start_time": "2024-08-16T13:01:53.948Z"
      },
      {
        "duration": 7,
        "start_time": "2024-08-16T13:01:54.263Z"
      },
      {
        "duration": 360,
        "start_time": "2024-08-16T13:01:54.272Z"
      },
      {
        "duration": 389,
        "start_time": "2024-08-16T13:01:54.634Z"
      },
      {
        "duration": 6,
        "start_time": "2024-08-16T13:01:55.025Z"
      },
      {
        "duration": 236,
        "start_time": "2024-08-16T13:01:55.033Z"
      },
      {
        "duration": 167,
        "start_time": "2024-08-16T13:01:55.270Z"
      },
      {
        "duration": 204,
        "start_time": "2024-08-16T13:01:55.438Z"
      },
      {
        "duration": 300,
        "start_time": "2024-08-16T13:01:55.644Z"
      },
      {
        "duration": 249,
        "start_time": "2024-08-16T13:01:55.946Z"
      },
      {
        "duration": 218,
        "start_time": "2024-08-16T13:01:56.197Z"
      },
      {
        "duration": 14,
        "start_time": "2024-08-16T13:01:56.417Z"
      },
      {
        "duration": 10,
        "start_time": "2024-08-16T13:01:56.434Z"
      },
      {
        "duration": 14,
        "start_time": "2024-08-16T13:01:56.446Z"
      },
      {
        "duration": 476,
        "start_time": "2024-08-16T13:14:46.032Z"
      },
      {
        "duration": 350,
        "start_time": "2024-08-16T13:15:06.102Z"
      },
      {
        "duration": 524,
        "start_time": "2024-08-16T13:22:47.369Z"
      },
      {
        "duration": 393,
        "start_time": "2024-08-16T13:22:54.693Z"
      },
      {
        "duration": 4,
        "start_time": "2024-08-16T13:23:29.949Z"
      },
      {
        "duration": 363,
        "start_time": "2024-08-16T13:23:31.087Z"
      },
      {
        "duration": 4,
        "start_time": "2024-08-16T13:24:44.041Z"
      },
      {
        "duration": 378,
        "start_time": "2024-08-16T13:24:55.789Z"
      },
      {
        "duration": 1224,
        "start_time": "2024-08-16T13:27:22.709Z"
      },
      {
        "duration": 58,
        "start_time": "2024-08-16T13:27:23.935Z"
      },
      {
        "duration": 20,
        "start_time": "2024-08-16T13:27:23.994Z"
      },
      {
        "duration": 18,
        "start_time": "2024-08-16T13:27:24.016Z"
      },
      {
        "duration": 3,
        "start_time": "2024-08-16T13:27:24.037Z"
      },
      {
        "duration": 11,
        "start_time": "2024-08-16T13:27:24.041Z"
      },
      {
        "duration": 35,
        "start_time": "2024-08-16T13:27:24.054Z"
      },
      {
        "duration": 12,
        "start_time": "2024-08-16T13:27:24.091Z"
      },
      {
        "duration": 22,
        "start_time": "2024-08-16T13:27:24.104Z"
      },
      {
        "duration": 9,
        "start_time": "2024-08-16T13:27:24.129Z"
      },
      {
        "duration": 16,
        "start_time": "2024-08-16T13:27:24.139Z"
      },
      {
        "duration": 22,
        "start_time": "2024-08-16T13:27:24.156Z"
      },
      {
        "duration": 17,
        "start_time": "2024-08-16T13:27:24.180Z"
      },
      {
        "duration": 23,
        "start_time": "2024-08-16T13:27:24.200Z"
      },
      {
        "duration": 5,
        "start_time": "2024-08-16T13:27:24.225Z"
      },
      {
        "duration": 27,
        "start_time": "2024-08-16T13:27:24.231Z"
      },
      {
        "duration": 40,
        "start_time": "2024-08-16T13:27:24.260Z"
      },
      {
        "duration": 397,
        "start_time": "2024-08-16T13:27:24.302Z"
      },
      {
        "duration": 382,
        "start_time": "2024-08-16T13:27:24.701Z"
      },
      {
        "duration": 9,
        "start_time": "2024-08-16T13:27:25.084Z"
      },
      {
        "duration": 29,
        "start_time": "2024-08-16T13:27:25.107Z"
      },
      {
        "duration": 299,
        "start_time": "2024-08-16T13:27:25.138Z"
      },
      {
        "duration": 5,
        "start_time": "2024-08-16T13:27:25.438Z"
      },
      {
        "duration": 384,
        "start_time": "2024-08-16T13:27:25.445Z"
      },
      {
        "duration": 396,
        "start_time": "2024-08-16T13:27:25.831Z"
      },
      {
        "duration": 4,
        "start_time": "2024-08-16T13:27:26.229Z"
      },
      {
        "duration": 246,
        "start_time": "2024-08-16T13:27:26.234Z"
      },
      {
        "duration": 163,
        "start_time": "2024-08-16T13:27:26.482Z"
      },
      {
        "duration": 241,
        "start_time": "2024-08-16T13:27:26.647Z"
      },
      {
        "duration": 372,
        "start_time": "2024-08-16T13:27:26.890Z"
      },
      {
        "duration": 232,
        "start_time": "2024-08-16T13:27:27.264Z"
      },
      {
        "duration": 246,
        "start_time": "2024-08-16T13:27:27.497Z"
      },
      {
        "duration": 13,
        "start_time": "2024-08-16T13:27:27.744Z"
      },
      {
        "duration": 10,
        "start_time": "2024-08-16T13:27:27.759Z"
      },
      {
        "duration": 37,
        "start_time": "2024-08-16T13:27:27.771Z"
      },
      {
        "duration": 306,
        "start_time": "2024-08-16T13:36:52.983Z"
      },
      {
        "duration": 7,
        "start_time": "2024-08-16T13:45:04.933Z"
      },
      {
        "duration": 204,
        "start_time": "2024-08-16T13:45:07.480Z"
      },
      {
        "duration": 1319,
        "start_time": "2024-08-16T13:45:15.970Z"
      },
      {
        "duration": 78,
        "start_time": "2024-08-16T13:45:17.291Z"
      },
      {
        "duration": 21,
        "start_time": "2024-08-16T13:45:17.370Z"
      },
      {
        "duration": 33,
        "start_time": "2024-08-16T13:45:17.393Z"
      },
      {
        "duration": 6,
        "start_time": "2024-08-16T13:45:17.430Z"
      },
      {
        "duration": 20,
        "start_time": "2024-08-16T13:45:17.437Z"
      },
      {
        "duration": 11,
        "start_time": "2024-08-16T13:45:17.459Z"
      },
      {
        "duration": 14,
        "start_time": "2024-08-16T13:45:17.472Z"
      },
      {
        "duration": 6,
        "start_time": "2024-08-16T13:45:17.488Z"
      },
      {
        "duration": 39,
        "start_time": "2024-08-16T13:45:17.495Z"
      },
      {
        "duration": 6,
        "start_time": "2024-08-16T13:45:17.536Z"
      },
      {
        "duration": 19,
        "start_time": "2024-08-16T13:45:17.544Z"
      },
      {
        "duration": 17,
        "start_time": "2024-08-16T13:45:17.565Z"
      },
      {
        "duration": 12,
        "start_time": "2024-08-16T13:45:17.585Z"
      },
      {
        "duration": 4,
        "start_time": "2024-08-16T13:45:17.598Z"
      },
      {
        "duration": 37,
        "start_time": "2024-08-16T13:45:17.604Z"
      },
      {
        "duration": 14,
        "start_time": "2024-08-16T13:45:17.643Z"
      },
      {
        "duration": 403,
        "start_time": "2024-08-16T13:45:17.658Z"
      },
      {
        "duration": 321,
        "start_time": "2024-08-16T13:45:18.062Z"
      },
      {
        "duration": 9,
        "start_time": "2024-08-16T13:45:18.385Z"
      },
      {
        "duration": 33,
        "start_time": "2024-08-16T13:45:18.395Z"
      },
      {
        "duration": 351,
        "start_time": "2024-08-16T13:45:18.434Z"
      },
      {
        "duration": 4,
        "start_time": "2024-08-16T13:45:18.787Z"
      },
      {
        "duration": 212,
        "start_time": "2024-08-16T13:45:18.793Z"
      },
      {
        "duration": 150,
        "start_time": "2024-08-16T13:45:19.007Z"
      },
      {
        "duration": 0,
        "start_time": "2024-08-16T13:45:19.159Z"
      },
      {
        "duration": 0,
        "start_time": "2024-08-16T13:45:19.160Z"
      },
      {
        "duration": 0,
        "start_time": "2024-08-16T13:45:19.162Z"
      },
      {
        "duration": 0,
        "start_time": "2024-08-16T13:45:19.163Z"
      },
      {
        "duration": 0,
        "start_time": "2024-08-16T13:45:19.165Z"
      },
      {
        "duration": 0,
        "start_time": "2024-08-16T13:45:19.166Z"
      },
      {
        "duration": 0,
        "start_time": "2024-08-16T13:45:19.167Z"
      },
      {
        "duration": 0,
        "start_time": "2024-08-16T13:45:19.169Z"
      },
      {
        "duration": 0,
        "start_time": "2024-08-16T13:45:19.170Z"
      },
      {
        "duration": 0,
        "start_time": "2024-08-16T13:45:19.171Z"
      },
      {
        "duration": 5,
        "start_time": "2024-08-16T13:46:41.780Z"
      },
      {
        "duration": 314,
        "start_time": "2024-08-16T13:46:43.523Z"
      },
      {
        "duration": 378,
        "start_time": "2024-08-16T13:47:02.101Z"
      },
      {
        "duration": 305,
        "start_time": "2024-08-16T13:50:01.883Z"
      },
      {
        "duration": 8,
        "start_time": "2024-08-16T14:20:53.233Z"
      },
      {
        "duration": 1208,
        "start_time": "2024-08-16T14:22:07.450Z"
      },
      {
        "duration": 69,
        "start_time": "2024-08-16T14:22:08.661Z"
      },
      {
        "duration": 19,
        "start_time": "2024-08-16T14:22:08.732Z"
      },
      {
        "duration": 14,
        "start_time": "2024-08-16T14:22:08.752Z"
      },
      {
        "duration": 3,
        "start_time": "2024-08-16T14:22:08.769Z"
      },
      {
        "duration": 28,
        "start_time": "2024-08-16T14:22:08.773Z"
      },
      {
        "duration": 33,
        "start_time": "2024-08-16T14:22:08.803Z"
      },
      {
        "duration": 8,
        "start_time": "2024-08-16T14:22:08.838Z"
      },
      {
        "duration": 12,
        "start_time": "2024-08-16T14:22:08.847Z"
      },
      {
        "duration": 14,
        "start_time": "2024-08-16T14:22:08.860Z"
      },
      {
        "duration": 8,
        "start_time": "2024-08-16T14:22:08.875Z"
      },
      {
        "duration": 34,
        "start_time": "2024-08-16T14:22:08.884Z"
      },
      {
        "duration": 21,
        "start_time": "2024-08-16T14:22:08.921Z"
      },
      {
        "duration": 19,
        "start_time": "2024-08-16T14:22:08.945Z"
      },
      {
        "duration": 44,
        "start_time": "2024-08-16T14:22:08.966Z"
      },
      {
        "duration": 25,
        "start_time": "2024-08-16T14:22:09.014Z"
      },
      {
        "duration": 18,
        "start_time": "2024-08-16T14:22:09.041Z"
      },
      {
        "duration": 423,
        "start_time": "2024-08-16T14:22:09.060Z"
      },
      {
        "duration": 324,
        "start_time": "2024-08-16T14:22:09.485Z"
      },
      {
        "duration": 11,
        "start_time": "2024-08-16T14:22:09.812Z"
      },
      {
        "duration": 30,
        "start_time": "2024-08-16T14:22:09.825Z"
      },
      {
        "duration": 349,
        "start_time": "2024-08-16T14:22:09.857Z"
      },
      {
        "duration": 7,
        "start_time": "2024-08-16T14:22:10.209Z"
      },
      {
        "duration": 380,
        "start_time": "2024-08-16T14:22:10.218Z"
      },
      {
        "duration": 317,
        "start_time": "2024-08-16T14:22:10.599Z"
      },
      {
        "duration": 12,
        "start_time": "2024-08-16T14:22:10.918Z"
      },
      {
        "duration": 13,
        "start_time": "2024-08-16T14:22:10.932Z"
      },
      {
        "duration": 304,
        "start_time": "2024-08-16T14:22:10.946Z"
      },
      {
        "duration": 178,
        "start_time": "2024-08-16T14:22:11.251Z"
      },
      {
        "duration": 246,
        "start_time": "2024-08-16T14:22:11.433Z"
      },
      {
        "duration": 323,
        "start_time": "2024-08-16T14:22:11.681Z"
      },
      {
        "duration": 256,
        "start_time": "2024-08-16T14:22:12.006Z"
      },
      {
        "duration": 245,
        "start_time": "2024-08-16T14:22:12.264Z"
      },
      {
        "duration": 20,
        "start_time": "2024-08-16T14:22:12.512Z"
      },
      {
        "duration": 9,
        "start_time": "2024-08-16T14:22:12.533Z"
      },
      {
        "duration": 11,
        "start_time": "2024-08-16T14:22:12.543Z"
      },
      {
        "duration": 4,
        "start_time": "2024-08-16T14:22:43.669Z"
      },
      {
        "duration": 189,
        "start_time": "2024-08-16T14:22:45.420Z"
      },
      {
        "duration": 154,
        "start_time": "2024-08-16T14:22:55.320Z"
      },
      {
        "duration": 105,
        "start_time": "2024-08-16T14:34:41.412Z"
      },
      {
        "duration": 9,
        "start_time": "2024-08-16T14:34:47.732Z"
      },
      {
        "duration": 317,
        "start_time": "2024-08-16T14:34:48.702Z"
      },
      {
        "duration": 338,
        "start_time": "2024-08-16T14:34:54.213Z"
      },
      {
        "duration": 302,
        "start_time": "2024-08-16T14:46:52.191Z"
      },
      {
        "duration": 236,
        "start_time": "2024-08-16T14:51:57.702Z"
      },
      {
        "duration": 139,
        "start_time": "2024-08-16T14:52:15.169Z"
      },
      {
        "duration": 151,
        "start_time": "2024-08-16T14:52:37.595Z"
      },
      {
        "duration": 166,
        "start_time": "2024-08-16T14:53:20.071Z"
      },
      {
        "duration": 221,
        "start_time": "2024-08-16T15:08:35.038Z"
      },
      {
        "duration": 239,
        "start_time": "2024-08-16T15:08:50.002Z"
      },
      {
        "duration": 306,
        "start_time": "2024-08-16T15:09:42.674Z"
      },
      {
        "duration": 191,
        "start_time": "2024-08-16T15:21:32.145Z"
      },
      {
        "duration": 207,
        "start_time": "2024-08-16T15:25:39.198Z"
      },
      {
        "duration": 217,
        "start_time": "2024-08-16T15:27:29.931Z"
      },
      {
        "duration": 1327,
        "start_time": "2024-08-16T15:30:24.289Z"
      },
      {
        "duration": 62,
        "start_time": "2024-08-16T15:30:25.618Z"
      },
      {
        "duration": 52,
        "start_time": "2024-08-16T15:30:25.681Z"
      },
      {
        "duration": 16,
        "start_time": "2024-08-16T15:30:25.735Z"
      },
      {
        "duration": 3,
        "start_time": "2024-08-16T15:30:25.754Z"
      },
      {
        "duration": 19,
        "start_time": "2024-08-16T15:30:25.758Z"
      },
      {
        "duration": 6,
        "start_time": "2024-08-16T15:30:25.779Z"
      },
      {
        "duration": 8,
        "start_time": "2024-08-16T15:30:25.787Z"
      },
      {
        "duration": 5,
        "start_time": "2024-08-16T15:30:25.797Z"
      },
      {
        "duration": 23,
        "start_time": "2024-08-16T15:30:25.804Z"
      },
      {
        "duration": 12,
        "start_time": "2024-08-16T15:30:25.830Z"
      },
      {
        "duration": 22,
        "start_time": "2024-08-16T15:30:25.845Z"
      },
      {
        "duration": 17,
        "start_time": "2024-08-16T15:30:25.870Z"
      },
      {
        "duration": 38,
        "start_time": "2024-08-16T15:30:25.890Z"
      },
      {
        "duration": 6,
        "start_time": "2024-08-16T15:30:25.933Z"
      },
      {
        "duration": 23,
        "start_time": "2024-08-16T15:30:25.941Z"
      },
      {
        "duration": 25,
        "start_time": "2024-08-16T15:30:25.966Z"
      },
      {
        "duration": 469,
        "start_time": "2024-08-16T15:30:25.992Z"
      },
      {
        "duration": 323,
        "start_time": "2024-08-16T15:30:26.463Z"
      },
      {
        "duration": 8,
        "start_time": "2024-08-16T15:30:26.788Z"
      },
      {
        "duration": 26,
        "start_time": "2024-08-16T15:30:26.806Z"
      },
      {
        "duration": 335,
        "start_time": "2024-08-16T15:30:26.834Z"
      },
      {
        "duration": 5,
        "start_time": "2024-08-16T15:30:27.170Z"
      },
      {
        "duration": 393,
        "start_time": "2024-08-16T15:30:27.177Z"
      },
      {
        "duration": 343,
        "start_time": "2024-08-16T15:30:27.571Z"
      },
      {
        "duration": 12,
        "start_time": "2024-08-16T15:30:27.926Z"
      },
      {
        "duration": 10,
        "start_time": "2024-08-16T15:30:27.940Z"
      },
      {
        "duration": 488,
        "start_time": "2024-08-16T15:30:27.952Z"
      },
      {
        "duration": 193,
        "start_time": "2024-08-16T15:30:28.442Z"
      },
      {
        "duration": 331,
        "start_time": "2024-08-16T15:30:28.637Z"
      },
      {
        "duration": 169,
        "start_time": "2024-08-16T15:30:28.970Z"
      },
      {
        "duration": 225,
        "start_time": "2024-08-16T15:30:29.141Z"
      },
      {
        "duration": 197,
        "start_time": "2024-08-16T15:30:29.368Z"
      },
      {
        "duration": 215,
        "start_time": "2024-08-16T15:30:29.566Z"
      },
      {
        "duration": 193,
        "start_time": "2024-08-16T15:30:29.783Z"
      },
      {
        "duration": 213,
        "start_time": "2024-08-16T15:30:29.978Z"
      },
      {
        "duration": 223,
        "start_time": "2024-08-16T15:30:30.192Z"
      },
      {
        "duration": 12,
        "start_time": "2024-08-16T15:30:30.417Z"
      },
      {
        "duration": 17,
        "start_time": "2024-08-16T15:30:30.430Z"
      },
      {
        "duration": 8,
        "start_time": "2024-08-16T15:30:30.449Z"
      },
      {
        "duration": 18,
        "start_time": "2024-08-16T15:37:14.515Z"
      },
      {
        "duration": 10,
        "start_time": "2024-08-16T15:37:15.340Z"
      },
      {
        "duration": 7,
        "start_time": "2024-08-16T15:37:15.642Z"
      },
      {
        "duration": 210,
        "start_time": "2024-08-16T15:43:57.444Z"
      },
      {
        "duration": 1248,
        "start_time": "2024-08-16T15:44:10.683Z"
      },
      {
        "duration": 61,
        "start_time": "2024-08-16T15:44:11.933Z"
      },
      {
        "duration": 20,
        "start_time": "2024-08-16T15:44:11.995Z"
      },
      {
        "duration": 20,
        "start_time": "2024-08-16T15:44:12.016Z"
      },
      {
        "duration": 4,
        "start_time": "2024-08-16T15:44:12.038Z"
      },
      {
        "duration": 16,
        "start_time": "2024-08-16T15:44:12.043Z"
      },
      {
        "duration": 6,
        "start_time": "2024-08-16T15:44:12.060Z"
      },
      {
        "duration": 14,
        "start_time": "2024-08-16T15:44:12.068Z"
      },
      {
        "duration": 6,
        "start_time": "2024-08-16T15:44:12.084Z"
      },
      {
        "duration": 5,
        "start_time": "2024-08-16T15:44:12.091Z"
      },
      {
        "duration": 6,
        "start_time": "2024-08-16T15:44:12.104Z"
      },
      {
        "duration": 33,
        "start_time": "2024-08-16T15:44:12.111Z"
      },
      {
        "duration": 26,
        "start_time": "2024-08-16T15:44:12.146Z"
      },
      {
        "duration": 11,
        "start_time": "2024-08-16T15:44:12.176Z"
      },
      {
        "duration": 13,
        "start_time": "2024-08-16T15:44:12.189Z"
      },
      {
        "duration": 15,
        "start_time": "2024-08-16T15:44:12.204Z"
      },
      {
        "duration": 28,
        "start_time": "2024-08-16T15:44:12.221Z"
      },
      {
        "duration": 358,
        "start_time": "2024-08-16T15:44:12.251Z"
      },
      {
        "duration": 314,
        "start_time": "2024-08-16T15:44:12.611Z"
      },
      {
        "duration": 8,
        "start_time": "2024-08-16T15:44:12.926Z"
      },
      {
        "duration": 20,
        "start_time": "2024-08-16T15:44:12.936Z"
      },
      {
        "duration": 299,
        "start_time": "2024-08-16T15:44:12.958Z"
      },
      {
        "duration": 5,
        "start_time": "2024-08-16T15:44:13.259Z"
      },
      {
        "duration": 334,
        "start_time": "2024-08-16T15:44:13.266Z"
      },
      {
        "duration": 304,
        "start_time": "2024-08-16T15:44:13.601Z"
      },
      {
        "duration": 6,
        "start_time": "2024-08-16T15:44:13.907Z"
      },
      {
        "duration": 19,
        "start_time": "2024-08-16T15:44:13.914Z"
      },
      {
        "duration": 411,
        "start_time": "2024-08-16T15:44:13.935Z"
      },
      {
        "duration": 180,
        "start_time": "2024-08-16T15:44:14.349Z"
      },
      {
        "duration": 309,
        "start_time": "2024-08-16T15:44:14.530Z"
      },
      {
        "duration": 181,
        "start_time": "2024-08-16T15:44:14.842Z"
      },
      {
        "duration": 232,
        "start_time": "2024-08-16T15:44:15.025Z"
      },
      {
        "duration": 180,
        "start_time": "2024-08-16T15:44:15.259Z"
      },
      {
        "duration": 196,
        "start_time": "2024-08-16T15:44:15.441Z"
      },
      {
        "duration": 194,
        "start_time": "2024-08-16T15:44:15.639Z"
      },
      {
        "duration": 244,
        "start_time": "2024-08-16T15:44:15.835Z"
      },
      {
        "duration": 233,
        "start_time": "2024-08-16T15:44:16.081Z"
      },
      {
        "duration": 0,
        "start_time": "2024-08-16T15:44:16.316Z"
      },
      {
        "duration": 0,
        "start_time": "2024-08-16T15:44:16.317Z"
      },
      {
        "duration": 0,
        "start_time": "2024-08-16T15:44:16.318Z"
      },
      {
        "duration": 0,
        "start_time": "2024-08-16T15:44:16.320Z"
      },
      {
        "duration": 0,
        "start_time": "2024-08-16T15:44:16.321Z"
      },
      {
        "duration": 0,
        "start_time": "2024-08-16T15:44:16.322Z"
      },
      {
        "duration": 641,
        "start_time": "2024-08-16T15:45:55.905Z"
      },
      {
        "duration": 555,
        "start_time": "2024-08-16T15:46:23.202Z"
      },
      {
        "duration": 16,
        "start_time": "2024-08-16T15:52:16.797Z"
      },
      {
        "duration": 14,
        "start_time": "2024-08-16T15:56:49.421Z"
      },
      {
        "duration": 13,
        "start_time": "2024-08-16T15:57:44.812Z"
      },
      {
        "duration": 9,
        "start_time": "2024-08-16T16:01:22.740Z"
      },
      {
        "duration": 9,
        "start_time": "2024-08-16T16:01:34.374Z"
      },
      {
        "duration": 1292,
        "start_time": "2024-08-16T16:31:41.110Z"
      },
      {
        "duration": 67,
        "start_time": "2024-08-16T16:31:42.405Z"
      },
      {
        "duration": 46,
        "start_time": "2024-08-16T16:31:42.474Z"
      },
      {
        "duration": 33,
        "start_time": "2024-08-16T16:31:42.523Z"
      },
      {
        "duration": 3,
        "start_time": "2024-08-16T16:31:42.558Z"
      },
      {
        "duration": 11,
        "start_time": "2024-08-16T16:31:42.563Z"
      },
      {
        "duration": 12,
        "start_time": "2024-08-16T16:31:42.575Z"
      },
      {
        "duration": 44,
        "start_time": "2024-08-16T16:31:42.589Z"
      },
      {
        "duration": 5,
        "start_time": "2024-08-16T16:31:42.635Z"
      },
      {
        "duration": 8,
        "start_time": "2024-08-16T16:31:42.642Z"
      },
      {
        "duration": 7,
        "start_time": "2024-08-16T16:31:42.652Z"
      },
      {
        "duration": 21,
        "start_time": "2024-08-16T16:31:42.660Z"
      },
      {
        "duration": 64,
        "start_time": "2024-08-16T16:31:42.683Z"
      },
      {
        "duration": 16,
        "start_time": "2024-08-16T16:31:42.749Z"
      },
      {
        "duration": 4,
        "start_time": "2024-08-16T16:31:42.768Z"
      },
      {
        "duration": 66,
        "start_time": "2024-08-16T16:31:42.774Z"
      },
      {
        "duration": 25,
        "start_time": "2024-08-16T16:31:42.842Z"
      },
      {
        "duration": 478,
        "start_time": "2024-08-16T16:31:42.869Z"
      },
      {
        "duration": 359,
        "start_time": "2024-08-16T16:31:43.349Z"
      },
      {
        "duration": 16,
        "start_time": "2024-08-16T16:31:43.710Z"
      },
      {
        "duration": 40,
        "start_time": "2024-08-16T16:31:43.728Z"
      },
      {
        "duration": 324,
        "start_time": "2024-08-16T16:31:43.770Z"
      },
      {
        "duration": 5,
        "start_time": "2024-08-16T16:31:44.095Z"
      },
      {
        "duration": 381,
        "start_time": "2024-08-16T16:31:44.102Z"
      },
      {
        "duration": 374,
        "start_time": "2024-08-16T16:31:44.485Z"
      },
      {
        "duration": 7,
        "start_time": "2024-08-16T16:31:44.862Z"
      },
      {
        "duration": 14,
        "start_time": "2024-08-16T16:31:44.870Z"
      },
      {
        "duration": 572,
        "start_time": "2024-08-16T16:31:44.887Z"
      },
      {
        "duration": 295,
        "start_time": "2024-08-16T16:31:45.462Z"
      },
      {
        "duration": 574,
        "start_time": "2024-08-16T16:31:45.759Z"
      },
      {
        "duration": 208,
        "start_time": "2024-08-16T16:31:46.336Z"
      },
      {
        "duration": 316,
        "start_time": "2024-08-16T16:31:46.545Z"
      },
      {
        "duration": 247,
        "start_time": "2024-08-16T16:31:46.863Z"
      },
      {
        "duration": 229,
        "start_time": "2024-08-16T16:31:47.113Z"
      },
      {
        "duration": 211,
        "start_time": "2024-08-16T16:31:47.344Z"
      },
      {
        "duration": 259,
        "start_time": "2024-08-16T16:31:47.557Z"
      },
      {
        "duration": 569,
        "start_time": "2024-08-16T16:31:47.823Z"
      },
      {
        "duration": 26,
        "start_time": "2024-08-16T16:31:48.394Z"
      },
      {
        "duration": 41,
        "start_time": "2024-08-16T16:31:48.422Z"
      },
      {
        "duration": 37,
        "start_time": "2024-08-16T16:31:48.465Z"
      },
      {
        "duration": 66,
        "start_time": "2024-08-16T16:33:43.212Z"
      },
      {
        "duration": 89,
        "start_time": "2024-08-16T16:37:44.961Z"
      },
      {
        "duration": 9,
        "start_time": "2024-08-16T16:42:05.904Z"
      },
      {
        "duration": 65,
        "start_time": "2024-08-16T16:42:51.606Z"
      },
      {
        "duration": 69,
        "start_time": "2024-08-16T16:44:10.403Z"
      },
      {
        "duration": 129,
        "start_time": "2024-08-16T16:44:56.710Z"
      },
      {
        "duration": 1090,
        "start_time": "2024-08-16T18:49:56.692Z"
      },
      {
        "duration": 213,
        "start_time": "2024-08-16T18:49:57.783Z"
      },
      {
        "duration": 18,
        "start_time": "2024-08-16T18:49:57.997Z"
      },
      {
        "duration": 13,
        "start_time": "2024-08-16T18:49:58.016Z"
      },
      {
        "duration": 3,
        "start_time": "2024-08-16T18:49:58.030Z"
      },
      {
        "duration": 10,
        "start_time": "2024-08-16T18:49:58.034Z"
      },
      {
        "duration": 6,
        "start_time": "2024-08-16T18:49:58.046Z"
      },
      {
        "duration": 10,
        "start_time": "2024-08-16T18:49:58.053Z"
      },
      {
        "duration": 21,
        "start_time": "2024-08-16T18:49:58.064Z"
      },
      {
        "duration": 10,
        "start_time": "2024-08-16T18:49:58.087Z"
      },
      {
        "duration": 19,
        "start_time": "2024-08-16T18:49:58.099Z"
      },
      {
        "duration": 35,
        "start_time": "2024-08-16T18:49:58.120Z"
      },
      {
        "duration": 19,
        "start_time": "2024-08-16T18:49:58.157Z"
      },
      {
        "duration": 11,
        "start_time": "2024-08-16T18:49:58.178Z"
      },
      {
        "duration": 4,
        "start_time": "2024-08-16T18:49:58.190Z"
      },
      {
        "duration": 13,
        "start_time": "2024-08-16T18:49:58.195Z"
      },
      {
        "duration": 21,
        "start_time": "2024-08-16T18:49:58.210Z"
      },
      {
        "duration": 332,
        "start_time": "2024-08-16T18:49:58.233Z"
      },
      {
        "duration": 274,
        "start_time": "2024-08-16T18:49:58.567Z"
      },
      {
        "duration": 7,
        "start_time": "2024-08-16T18:49:58.843Z"
      },
      {
        "duration": 30,
        "start_time": "2024-08-16T18:49:58.852Z"
      },
      {
        "duration": 242,
        "start_time": "2024-08-16T18:49:58.884Z"
      },
      {
        "duration": 5,
        "start_time": "2024-08-16T18:49:59.127Z"
      },
      {
        "duration": 310,
        "start_time": "2024-08-16T18:49:59.133Z"
      },
      {
        "duration": 275,
        "start_time": "2024-08-16T18:49:59.444Z"
      },
      {
        "duration": 6,
        "start_time": "2024-08-16T18:49:59.721Z"
      },
      {
        "duration": 7,
        "start_time": "2024-08-16T18:49:59.728Z"
      },
      {
        "duration": 372,
        "start_time": "2024-08-16T18:49:59.738Z"
      },
      {
        "duration": 183,
        "start_time": "2024-08-16T18:50:00.111Z"
      },
      {
        "duration": 277,
        "start_time": "2024-08-16T18:50:00.296Z"
      },
      {
        "duration": 152,
        "start_time": "2024-08-16T18:50:00.575Z"
      },
      {
        "duration": 201,
        "start_time": "2024-08-16T18:50:00.728Z"
      },
      {
        "duration": 154,
        "start_time": "2024-08-16T18:50:00.930Z"
      },
      {
        "duration": 161,
        "start_time": "2024-08-16T18:50:01.086Z"
      },
      {
        "duration": 173,
        "start_time": "2024-08-16T18:50:01.248Z"
      },
      {
        "duration": 205,
        "start_time": "2024-08-16T18:50:01.423Z"
      },
      {
        "duration": 472,
        "start_time": "2024-08-16T18:50:01.630Z"
      },
      {
        "duration": 11,
        "start_time": "2024-08-16T18:50:02.104Z"
      },
      {
        "duration": 24,
        "start_time": "2024-08-16T18:50:02.116Z"
      },
      {
        "duration": 9,
        "start_time": "2024-08-16T18:50:02.141Z"
      },
      {
        "duration": 5,
        "start_time": "2024-08-16T19:10:16.163Z"
      },
      {
        "duration": 7,
        "start_time": "2024-08-16T19:10:23.037Z"
      },
      {
        "duration": 6,
        "start_time": "2024-08-16T19:10:30.471Z"
      },
      {
        "duration": 22,
        "start_time": "2024-08-16T19:10:38.538Z"
      },
      {
        "duration": 19,
        "start_time": "2024-08-16T19:11:59.507Z"
      },
      {
        "duration": 1285,
        "start_time": "2024-08-17T05:41:11.536Z"
      },
      {
        "duration": 230,
        "start_time": "2024-08-17T05:41:12.824Z"
      },
      {
        "duration": 22,
        "start_time": "2024-08-17T05:41:13.055Z"
      },
      {
        "duration": 15,
        "start_time": "2024-08-17T05:41:13.078Z"
      },
      {
        "duration": 4,
        "start_time": "2024-08-17T05:41:13.095Z"
      },
      {
        "duration": 20,
        "start_time": "2024-08-17T05:41:13.100Z"
      },
      {
        "duration": 13,
        "start_time": "2024-08-17T05:41:13.122Z"
      },
      {
        "duration": 7,
        "start_time": "2024-08-17T05:41:13.136Z"
      },
      {
        "duration": 7,
        "start_time": "2024-08-17T05:41:13.144Z"
      },
      {
        "duration": 15,
        "start_time": "2024-08-17T05:41:13.152Z"
      },
      {
        "duration": 7,
        "start_time": "2024-08-17T05:41:13.169Z"
      },
      {
        "duration": 38,
        "start_time": "2024-08-17T05:41:13.178Z"
      },
      {
        "duration": 30,
        "start_time": "2024-08-17T05:41:13.218Z"
      },
      {
        "duration": 12,
        "start_time": "2024-08-17T05:41:13.252Z"
      },
      {
        "duration": 4,
        "start_time": "2024-08-17T05:41:13.265Z"
      },
      {
        "duration": 36,
        "start_time": "2024-08-17T05:41:13.271Z"
      },
      {
        "duration": 23,
        "start_time": "2024-08-17T05:41:13.309Z"
      },
      {
        "duration": 352,
        "start_time": "2024-08-17T05:41:13.334Z"
      },
      {
        "duration": 298,
        "start_time": "2024-08-17T05:41:13.688Z"
      },
      {
        "duration": 16,
        "start_time": "2024-08-17T05:41:13.987Z"
      },
      {
        "duration": 23,
        "start_time": "2024-08-17T05:41:14.005Z"
      },
      {
        "duration": 304,
        "start_time": "2024-08-17T05:41:14.029Z"
      },
      {
        "duration": 4,
        "start_time": "2024-08-17T05:41:14.335Z"
      },
      {
        "duration": 323,
        "start_time": "2024-08-17T05:41:14.340Z"
      },
      {
        "duration": 286,
        "start_time": "2024-08-17T05:41:14.665Z"
      },
      {
        "duration": 6,
        "start_time": "2024-08-17T05:41:14.953Z"
      },
      {
        "duration": 23,
        "start_time": "2024-08-17T05:41:14.961Z"
      },
      {
        "duration": 457,
        "start_time": "2024-08-17T05:41:14.986Z"
      },
      {
        "duration": 198,
        "start_time": "2024-08-17T05:41:15.445Z"
      },
      {
        "duration": 314,
        "start_time": "2024-08-17T05:41:15.645Z"
      },
      {
        "duration": 164,
        "start_time": "2024-08-17T05:41:15.961Z"
      },
      {
        "duration": 210,
        "start_time": "2024-08-17T05:41:16.127Z"
      },
      {
        "duration": 178,
        "start_time": "2024-08-17T05:41:16.339Z"
      },
      {
        "duration": 165,
        "start_time": "2024-08-17T05:41:16.519Z"
      },
      {
        "duration": 180,
        "start_time": "2024-08-17T05:41:16.686Z"
      },
      {
        "duration": 226,
        "start_time": "2024-08-17T05:41:16.868Z"
      },
      {
        "duration": 555,
        "start_time": "2024-08-17T05:41:17.096Z"
      },
      {
        "duration": 11,
        "start_time": "2024-08-17T05:41:17.653Z"
      },
      {
        "duration": 21,
        "start_time": "2024-08-17T05:41:17.666Z"
      },
      {
        "duration": 13,
        "start_time": "2024-08-17T05:41:17.688Z"
      },
      {
        "duration": 1064,
        "start_time": "2024-08-17T05:45:27.135Z"
      },
      {
        "duration": 58,
        "start_time": "2024-08-17T05:45:28.201Z"
      },
      {
        "duration": 19,
        "start_time": "2024-08-17T05:45:28.260Z"
      },
      {
        "duration": 19,
        "start_time": "2024-08-17T05:45:28.280Z"
      },
      {
        "duration": 3,
        "start_time": "2024-08-17T05:45:28.300Z"
      },
      {
        "duration": 12,
        "start_time": "2024-08-17T05:45:28.304Z"
      },
      {
        "duration": 5,
        "start_time": "2024-08-17T05:45:28.317Z"
      },
      {
        "duration": 20,
        "start_time": "2024-08-17T05:45:28.324Z"
      },
      {
        "duration": 13,
        "start_time": "2024-08-17T05:45:28.346Z"
      },
      {
        "duration": 7,
        "start_time": "2024-08-17T05:45:28.361Z"
      },
      {
        "duration": 16,
        "start_time": "2024-08-17T05:45:28.369Z"
      },
      {
        "duration": 31,
        "start_time": "2024-08-17T05:45:28.386Z"
      },
      {
        "duration": 19,
        "start_time": "2024-08-17T05:45:28.418Z"
      },
      {
        "duration": 11,
        "start_time": "2024-08-17T05:45:28.439Z"
      },
      {
        "duration": 4,
        "start_time": "2024-08-17T05:45:28.451Z"
      },
      {
        "duration": 21,
        "start_time": "2024-08-17T05:45:28.456Z"
      },
      {
        "duration": 22,
        "start_time": "2024-08-17T05:45:28.479Z"
      },
      {
        "duration": 335,
        "start_time": "2024-08-17T05:45:28.502Z"
      },
      {
        "duration": 274,
        "start_time": "2024-08-17T05:45:28.839Z"
      },
      {
        "duration": 8,
        "start_time": "2024-08-17T05:45:29.114Z"
      },
      {
        "duration": 16,
        "start_time": "2024-08-17T05:45:29.123Z"
      },
      {
        "duration": 279,
        "start_time": "2024-08-17T05:45:29.141Z"
      },
      {
        "duration": 6,
        "start_time": "2024-08-17T05:45:29.422Z"
      },
      {
        "duration": 313,
        "start_time": "2024-08-17T05:45:29.429Z"
      },
      {
        "duration": 282,
        "start_time": "2024-08-17T05:45:29.744Z"
      },
      {
        "duration": 6,
        "start_time": "2024-08-17T05:45:30.028Z"
      },
      {
        "duration": 46,
        "start_time": "2024-08-17T05:45:30.036Z"
      },
      {
        "duration": 424,
        "start_time": "2024-08-17T05:45:30.086Z"
      },
      {
        "duration": 175,
        "start_time": "2024-08-17T05:45:30.512Z"
      },
      {
        "duration": 297,
        "start_time": "2024-08-17T05:45:30.689Z"
      },
      {
        "duration": 146,
        "start_time": "2024-08-17T05:45:30.995Z"
      },
      {
        "duration": 184,
        "start_time": "2024-08-17T05:45:31.142Z"
      },
      {
        "duration": 161,
        "start_time": "2024-08-17T05:45:31.328Z"
      },
      {
        "duration": 158,
        "start_time": "2024-08-17T05:45:31.490Z"
      },
      {
        "duration": 177,
        "start_time": "2024-08-17T05:45:31.649Z"
      },
      {
        "duration": 218,
        "start_time": "2024-08-17T05:45:31.828Z"
      },
      {
        "duration": 483,
        "start_time": "2024-08-17T05:45:32.047Z"
      },
      {
        "duration": 12,
        "start_time": "2024-08-17T05:45:32.532Z"
      },
      {
        "duration": 139,
        "start_time": "2024-08-17T05:45:32.546Z"
      },
      {
        "duration": 50,
        "start_time": "2024-08-17T05:45:32.687Z"
      },
      {
        "duration": 1107,
        "start_time": "2024-08-17T05:46:29.705Z"
      },
      {
        "duration": 59,
        "start_time": "2024-08-17T05:46:30.814Z"
      },
      {
        "duration": 19,
        "start_time": "2024-08-17T05:46:30.875Z"
      },
      {
        "duration": 83,
        "start_time": "2024-08-17T05:46:30.896Z"
      },
      {
        "duration": 55,
        "start_time": "2024-08-17T05:46:30.981Z"
      },
      {
        "duration": 36,
        "start_time": "2024-08-17T05:46:31.038Z"
      },
      {
        "duration": 34,
        "start_time": "2024-08-17T05:46:31.076Z"
      },
      {
        "duration": 27,
        "start_time": "2024-08-17T05:46:31.112Z"
      },
      {
        "duration": 57,
        "start_time": "2024-08-17T05:46:31.141Z"
      },
      {
        "duration": 37,
        "start_time": "2024-08-17T05:46:31.200Z"
      },
      {
        "duration": 46,
        "start_time": "2024-08-17T05:46:31.239Z"
      },
      {
        "duration": 61,
        "start_time": "2024-08-17T05:46:31.287Z"
      },
      {
        "duration": 19,
        "start_time": "2024-08-17T05:46:31.349Z"
      },
      {
        "duration": 20,
        "start_time": "2024-08-17T05:46:31.370Z"
      },
      {
        "duration": 47,
        "start_time": "2024-08-17T05:46:31.392Z"
      },
      {
        "duration": 52,
        "start_time": "2024-08-17T05:46:31.441Z"
      },
      {
        "duration": 56,
        "start_time": "2024-08-17T05:46:31.495Z"
      },
      {
        "duration": 359,
        "start_time": "2024-08-17T05:46:31.553Z"
      },
      {
        "duration": 282,
        "start_time": "2024-08-17T05:46:31.914Z"
      },
      {
        "duration": 8,
        "start_time": "2024-08-17T05:46:32.197Z"
      },
      {
        "duration": 97,
        "start_time": "2024-08-17T05:46:32.207Z"
      },
      {
        "duration": 288,
        "start_time": "2024-08-17T05:46:32.305Z"
      },
      {
        "duration": 4,
        "start_time": "2024-08-17T05:46:32.594Z"
      },
      {
        "duration": 321,
        "start_time": "2024-08-17T05:46:32.600Z"
      },
      {
        "duration": 267,
        "start_time": "2024-08-17T05:46:32.922Z"
      },
      {
        "duration": 6,
        "start_time": "2024-08-17T05:46:33.195Z"
      },
      {
        "duration": 129,
        "start_time": "2024-08-17T05:46:33.203Z"
      },
      {
        "duration": 380,
        "start_time": "2024-08-17T05:46:33.335Z"
      },
      {
        "duration": 156,
        "start_time": "2024-08-17T05:46:33.716Z"
      },
      {
        "duration": 284,
        "start_time": "2024-08-17T05:46:33.873Z"
      },
      {
        "duration": 157,
        "start_time": "2024-08-17T05:46:34.158Z"
      },
      {
        "duration": 180,
        "start_time": "2024-08-17T05:46:34.316Z"
      },
      {
        "duration": 169,
        "start_time": "2024-08-17T05:46:34.498Z"
      },
      {
        "duration": 168,
        "start_time": "2024-08-17T05:46:34.668Z"
      },
      {
        "duration": 168,
        "start_time": "2024-08-17T05:46:34.837Z"
      },
      {
        "duration": 209,
        "start_time": "2024-08-17T05:46:35.006Z"
      },
      {
        "duration": 504,
        "start_time": "2024-08-17T05:46:35.217Z"
      },
      {
        "duration": 10,
        "start_time": "2024-08-17T05:46:35.723Z"
      },
      {
        "duration": 10,
        "start_time": "2024-08-17T05:46:35.734Z"
      },
      {
        "duration": 19,
        "start_time": "2024-08-17T05:46:35.746Z"
      },
      {
        "duration": 348,
        "start_time": "2024-08-17T05:54:46.451Z"
      },
      {
        "duration": 466,
        "start_time": "2024-08-17T06:17:08.218Z"
      },
      {
        "duration": 467,
        "start_time": "2024-08-17T06:18:12.663Z"
      },
      {
        "duration": 10,
        "start_time": "2024-08-17T06:25:17.807Z"
      },
      {
        "duration": 10,
        "start_time": "2024-08-17T06:25:53.566Z"
      },
      {
        "duration": 1129,
        "start_time": "2024-08-17T06:26:05.780Z"
      },
      {
        "duration": 59,
        "start_time": "2024-08-17T06:26:06.911Z"
      },
      {
        "duration": 23,
        "start_time": "2024-08-17T06:26:06.971Z"
      },
      {
        "duration": 14,
        "start_time": "2024-08-17T06:26:06.996Z"
      },
      {
        "duration": 5,
        "start_time": "2024-08-17T06:26:07.012Z"
      },
      {
        "duration": 26,
        "start_time": "2024-08-17T06:26:07.018Z"
      },
      {
        "duration": 6,
        "start_time": "2024-08-17T06:26:07.046Z"
      },
      {
        "duration": 6,
        "start_time": "2024-08-17T06:26:07.053Z"
      },
      {
        "duration": 16,
        "start_time": "2024-08-17T06:26:07.061Z"
      },
      {
        "duration": 7,
        "start_time": "2024-08-17T06:26:07.078Z"
      },
      {
        "duration": 11,
        "start_time": "2024-08-17T06:26:07.086Z"
      },
      {
        "duration": 19,
        "start_time": "2024-08-17T06:26:07.098Z"
      },
      {
        "duration": 18,
        "start_time": "2024-08-17T06:26:07.118Z"
      },
      {
        "duration": 19,
        "start_time": "2024-08-17T06:26:07.139Z"
      },
      {
        "duration": 4,
        "start_time": "2024-08-17T06:26:07.159Z"
      },
      {
        "duration": 23,
        "start_time": "2024-08-17T06:26:07.164Z"
      },
      {
        "duration": 26,
        "start_time": "2024-08-17T06:26:07.188Z"
      },
      {
        "duration": 329,
        "start_time": "2024-08-17T06:26:07.215Z"
      },
      {
        "duration": 275,
        "start_time": "2024-08-17T06:26:07.546Z"
      },
      {
        "duration": 8,
        "start_time": "2024-08-17T06:26:07.822Z"
      },
      {
        "duration": 27,
        "start_time": "2024-08-17T06:26:07.831Z"
      },
      {
        "duration": 269,
        "start_time": "2024-08-17T06:26:07.860Z"
      },
      {
        "duration": 4,
        "start_time": "2024-08-17T06:26:08.131Z"
      },
      {
        "duration": 293,
        "start_time": "2024-08-17T06:26:08.137Z"
      },
      {
        "duration": 258,
        "start_time": "2024-08-17T06:26:08.432Z"
      },
      {
        "duration": 7,
        "start_time": "2024-08-17T06:26:08.695Z"
      },
      {
        "duration": 338,
        "start_time": "2024-08-17T06:26:08.703Z"
      },
      {
        "duration": 7,
        "start_time": "2024-08-17T06:26:09.042Z"
      },
      {
        "duration": 317,
        "start_time": "2024-08-17T06:26:09.050Z"
      },
      {
        "duration": 163,
        "start_time": "2024-08-17T06:26:09.369Z"
      },
      {
        "duration": 298,
        "start_time": "2024-08-17T06:26:09.534Z"
      },
      {
        "duration": 157,
        "start_time": "2024-08-17T06:26:09.833Z"
      },
      {
        "duration": 183,
        "start_time": "2024-08-17T06:26:09.992Z"
      },
      {
        "duration": 479,
        "start_time": "2024-08-17T06:26:10.177Z"
      },
      {
        "duration": 452,
        "start_time": "2024-08-17T06:26:10.657Z"
      },
      {
        "duration": 289,
        "start_time": "2024-08-17T06:26:11.111Z"
      },
      {
        "duration": 487,
        "start_time": "2024-08-17T06:26:11.402Z"
      },
      {
        "duration": 14,
        "start_time": "2024-08-17T06:26:11.890Z"
      },
      {
        "duration": 10,
        "start_time": "2024-08-17T06:26:11.905Z"
      },
      {
        "duration": 10,
        "start_time": "2024-08-17T06:26:11.916Z"
      },
      {
        "duration": 1207,
        "start_time": "2024-08-17T06:40:45.891Z"
      },
      {
        "duration": 60,
        "start_time": "2024-08-17T06:40:47.100Z"
      },
      {
        "duration": 21,
        "start_time": "2024-08-17T06:40:47.162Z"
      },
      {
        "duration": 20,
        "start_time": "2024-08-17T06:40:47.185Z"
      },
      {
        "duration": 6,
        "start_time": "2024-08-17T06:40:47.207Z"
      },
      {
        "duration": 9,
        "start_time": "2024-08-17T06:40:47.215Z"
      },
      {
        "duration": 6,
        "start_time": "2024-08-17T06:40:47.225Z"
      },
      {
        "duration": 6,
        "start_time": "2024-08-17T06:40:47.233Z"
      },
      {
        "duration": 4,
        "start_time": "2024-08-17T06:40:47.241Z"
      },
      {
        "duration": 6,
        "start_time": "2024-08-17T06:40:47.247Z"
      },
      {
        "duration": 7,
        "start_time": "2024-08-17T06:40:47.254Z"
      },
      {
        "duration": 61,
        "start_time": "2024-08-17T06:40:47.262Z"
      },
      {
        "duration": 16,
        "start_time": "2024-08-17T06:40:47.325Z"
      },
      {
        "duration": 12,
        "start_time": "2024-08-17T06:40:47.344Z"
      },
      {
        "duration": 4,
        "start_time": "2024-08-17T06:40:47.358Z"
      },
      {
        "duration": 49,
        "start_time": "2024-08-17T06:40:47.363Z"
      },
      {
        "duration": 15,
        "start_time": "2024-08-17T06:40:47.414Z"
      },
      {
        "duration": 379,
        "start_time": "2024-08-17T06:40:47.431Z"
      },
      {
        "duration": 293,
        "start_time": "2024-08-17T06:40:47.814Z"
      },
      {
        "duration": 8,
        "start_time": "2024-08-17T06:40:48.112Z"
      },
      {
        "duration": 15,
        "start_time": "2024-08-17T06:40:48.122Z"
      },
      {
        "duration": 295,
        "start_time": "2024-08-17T06:40:48.138Z"
      },
      {
        "duration": 5,
        "start_time": "2024-08-17T06:40:48.434Z"
      },
      {
        "duration": 323,
        "start_time": "2024-08-17T06:40:48.440Z"
      },
      {
        "duration": 303,
        "start_time": "2024-08-17T06:40:48.764Z"
      },
      {
        "duration": 7,
        "start_time": "2024-08-17T06:40:49.069Z"
      },
      {
        "duration": 391,
        "start_time": "2024-08-17T06:40:49.077Z"
      },
      {
        "duration": 7,
        "start_time": "2024-08-17T06:40:49.469Z"
      },
      {
        "duration": 347,
        "start_time": "2024-08-17T06:40:49.478Z"
      },
      {
        "duration": 180,
        "start_time": "2024-08-17T06:40:49.828Z"
      },
      {
        "duration": 308,
        "start_time": "2024-08-17T06:40:50.010Z"
      },
      {
        "duration": 178,
        "start_time": "2024-08-17T06:40:50.321Z"
      },
      {
        "duration": 195,
        "start_time": "2024-08-17T06:40:50.505Z"
      },
      {
        "duration": 520,
        "start_time": "2024-08-17T06:40:50.705Z"
      },
      {
        "duration": 507,
        "start_time": "2024-08-17T06:40:51.226Z"
      },
      {
        "duration": 302,
        "start_time": "2024-08-17T06:40:51.734Z"
      },
      {
        "duration": 520,
        "start_time": "2024-08-17T06:40:52.038Z"
      },
      {
        "duration": 10,
        "start_time": "2024-08-17T06:40:52.560Z"
      },
      {
        "duration": 26,
        "start_time": "2024-08-17T06:40:52.572Z"
      },
      {
        "duration": 22,
        "start_time": "2024-08-17T06:40:52.599Z"
      },
      {
        "duration": 1481,
        "start_time": "2024-08-17T09:34:15.331Z"
      },
      {
        "duration": 186,
        "start_time": "2024-08-17T09:34:16.814Z"
      },
      {
        "duration": 23,
        "start_time": "2024-08-17T09:34:17.002Z"
      },
      {
        "duration": 15,
        "start_time": "2024-08-17T09:34:17.028Z"
      },
      {
        "duration": 6,
        "start_time": "2024-08-17T09:34:17.045Z"
      },
      {
        "duration": 20,
        "start_time": "2024-08-17T09:34:17.052Z"
      },
      {
        "duration": 8,
        "start_time": "2024-08-17T09:34:17.075Z"
      },
      {
        "duration": 8,
        "start_time": "2024-08-17T09:34:17.085Z"
      },
      {
        "duration": 10,
        "start_time": "2024-08-17T09:34:17.095Z"
      },
      {
        "duration": 38,
        "start_time": "2024-08-17T09:34:17.108Z"
      },
      {
        "duration": 33,
        "start_time": "2024-08-17T09:34:17.147Z"
      },
      {
        "duration": 30,
        "start_time": "2024-08-17T09:34:17.182Z"
      },
      {
        "duration": 18,
        "start_time": "2024-08-17T09:34:17.214Z"
      },
      {
        "duration": 15,
        "start_time": "2024-08-17T09:34:17.234Z"
      },
      {
        "duration": 5,
        "start_time": "2024-08-17T09:34:17.251Z"
      },
      {
        "duration": 18,
        "start_time": "2024-08-17T09:34:17.258Z"
      },
      {
        "duration": 17,
        "start_time": "2024-08-17T09:34:17.278Z"
      },
      {
        "duration": 402,
        "start_time": "2024-08-17T09:34:17.296Z"
      },
      {
        "duration": 308,
        "start_time": "2024-08-17T09:34:17.700Z"
      },
      {
        "duration": 9,
        "start_time": "2024-08-17T09:34:18.010Z"
      },
      {
        "duration": 44,
        "start_time": "2024-08-17T09:34:18.020Z"
      },
      {
        "duration": 326,
        "start_time": "2024-08-17T09:34:18.066Z"
      },
      {
        "duration": 5,
        "start_time": "2024-08-17T09:34:18.394Z"
      },
      {
        "duration": 420,
        "start_time": "2024-08-17T09:34:18.401Z"
      },
      {
        "duration": 396,
        "start_time": "2024-08-17T09:34:18.823Z"
      },
      {
        "duration": 7,
        "start_time": "2024-08-17T09:34:19.220Z"
      },
      {
        "duration": 312,
        "start_time": "2024-08-17T09:34:19.229Z"
      },
      {
        "duration": 10,
        "start_time": "2024-08-17T09:34:19.546Z"
      },
      {
        "duration": 351,
        "start_time": "2024-08-17T09:34:19.558Z"
      },
      {
        "duration": 185,
        "start_time": "2024-08-17T09:34:19.912Z"
      },
      {
        "duration": 338,
        "start_time": "2024-08-17T09:34:20.100Z"
      },
      {
        "duration": 193,
        "start_time": "2024-08-17T09:34:20.439Z"
      },
      {
        "duration": 256,
        "start_time": "2024-08-17T09:34:20.634Z"
      },
      {
        "duration": 545,
        "start_time": "2024-08-17T09:34:20.892Z"
      },
      {
        "duration": 634,
        "start_time": "2024-08-17T09:34:21.438Z"
      },
      {
        "duration": 232,
        "start_time": "2024-08-17T09:34:22.078Z"
      },
      {
        "duration": 534,
        "start_time": "2024-08-17T09:34:22.311Z"
      },
      {
        "duration": 20,
        "start_time": "2024-08-17T09:34:22.847Z"
      },
      {
        "duration": 15,
        "start_time": "2024-08-17T09:34:22.869Z"
      },
      {
        "duration": 12,
        "start_time": "2024-08-17T09:34:22.886Z"
      }
    ],
    "kernelspec": {
      "display_name": "Python 3 (ipykernel)",
      "language": "python",
      "name": "python3"
    },
    "language_info": {
      "codemirror_mode": {
        "name": "ipython",
        "version": 3
      },
      "file_extension": ".py",
      "mimetype": "text/x-python",
      "name": "python",
      "nbconvert_exporter": "python",
      "pygments_lexer": "ipython3",
      "version": "3.9.5"
    },
    "toc": {
      "base_numbering": 1,
      "nav_menu": {},
      "number_sections": true,
      "sideBar": true,
      "skip_h1_title": true,
      "title_cell": "Table of Contents",
      "title_sidebar": "Contents",
      "toc_cell": false,
      "toc_position": {},
      "toc_section_display": true,
      "toc_window_display": false
    },
    "colab": {
      "provenance": []
    }
  },
  "nbformat": 4,
  "nbformat_minor": 0
}